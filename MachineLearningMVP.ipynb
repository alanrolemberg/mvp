{
  "cells": [
    {
      "cell_type": "markdown",
      "metadata": {
        "id": "view-in-github",
        "colab_type": "text"
      },
      "source": [
        "<a href=\"https://colab.research.google.com/github/alanrolemberg/mvp/blob/main/MachineLearningMVP.ipynb\" target=\"_parent\"><img src=\"https://colab.research.google.com/assets/colab-badge.svg\" alt=\"Open In Colab\"/></a>"
      ]
    },
    {
      "cell_type": "markdown",
      "metadata": {
        "id": "jIDdjG25-caO"
      },
      "source": [
        "**Pontifícia Universidade Católica do Rio de Janeiro - PUC - RJ**\n",
        "\n",
        "**Ano: 2023**\n",
        "\n",
        "**Sprint: Machine Learning & Analytics (40530010056_20230_01)**\n",
        "\n",
        "-------------------------------------------------------------------------------\n",
        "\n",
        "**MVP - Machine Learning**\n",
        "\n",
        "**Aluno:** ALAN ROLEMBERG ELIODORIO\n",
        "\n",
        "-------------------------------------------------------------------------------\n",
        "\n",
        "# Modelo para predição de salários a serem pagos para novos profissionais de área de ciência de dados\n",
        "\n",
        "**Tipo do problema:** Regressão\n",
        "\n",
        "**Método:** Algoritmos clássicos de regressão\n",
        "\n",
        "-------------------------------------------------------------------------------"
      ]
    },
    {
      "cell_type": "markdown",
      "metadata": {
        "id": "xjOpLDcTBbbM"
      },
      "source": [
        "**Contexto**\n",
        "\n",
        "Temos um banco de dados com o histórico de **salários pagos** a profissionais de ciência de dados em diversas empresas. Além dos salários, o dataset nos traz informações características de cada vaga, como local de residência do empregado, local da empresa, taxa de trabalho remoto, entre outros dados interessantes. Com base nestes dados, tentaremos **predizer um valor de salário** para novos empregados, ou seja, é um problema de regressão. Este modelo pode ser usado para que empresas ofereçam salários justos (baseados em valor de mercado) para seus novos empregados.\n",
        "\n",
        "**Estrutura**\n",
        "\n",
        "O notebook está dividido em:\n",
        "\n",
        "-  Importação de bibliotecas\n",
        "\n",
        "-  Carga do dataset original\n",
        "\n",
        "-  Pré-processamento de dados\n",
        "\n",
        "-  Carga do dataset pré-processado\n",
        "\n",
        "-  Divisão entre treinamento e teste\n",
        "\n",
        "-  Modelagem\n",
        "\n",
        "-  Avaliação dos modelos no conjunto de treino\n",
        "\n",
        "-  Avaliação do modelo vencedor no conjunto de teste\n",
        "\n",
        "-  Processo de feature selection\n",
        "\n",
        "-  Redução da dimensionalidade (aplicando o feature selection)\n",
        "\n",
        "-  Nova modelagem (aplicando o feature selection)\n",
        "\n",
        "-  Avaliação dos modelos no conjunto de treino (aplicando o feature selection)\n",
        "\n",
        "-  Avaliação do modelo vencedor no conjunto de teste (aplicando o feature selection)\n",
        "\n",
        "-  Redução da dimensionalidade (corrigindo o feature selection)\n",
        "\n",
        "-  Nova modelagem (corrigindo o feature selection)\n",
        "\n",
        "-  Avaliação do modelo vencedor no conjunto de teste (corrigindo o feature selection)\n",
        "\n",
        "-  Testando a predição\n",
        "\n",
        "-  Uso do algoritmo de melhor avaliação\n",
        "\n",
        "-  Otimização de Hiperparâmetros\n",
        "\n",
        "-  Análise do Plot\n",
        "\n",
        "-  Persistindo o modelo\n",
        "\n",
        "-  Recuperando o modelo\n",
        "\n",
        "-  Conclusões finais\n",
        "\n",
        "**Dataset**\n",
        "\n",
        "O dataset ds_salaries foi baixado do Kaggle, através do link [ds_salaries](https://www.google.com/url?sa=t&rct=j&q=&esrc=s&source=web&cd=&cad=rja&uact=8&ved=2ahUKEwj9lvjiu9D_AhU_CLkGHcniBhAQFnoECBQQAQ&url=https%3A%2F%2Fwww.kaggle.com%2Fcode%2Fifeanyies%2Fds-salaries&usg=AOvVaw0AR50DRdSHC8J87Xz6Qy3C&opi=89978449) ."
      ]
    },
    {
      "cell_type": "markdown",
      "metadata": {
        "id": "3wRQpjPROzAs"
      },
      "source": [
        "**1. Importação das bibliotecas:** Vamos importar as bibliotecas necessárias para os trabalhos a serem executados."
      ]
    },
    {
      "cell_type": "code",
      "execution_count": 1,
      "metadata": {
        "id": "sPMp7QfrBZNd"
      },
      "outputs": [],
      "source": [
        "# Configuração para não exibir os warnings\n",
        "import warnings\n",
        "warnings.filterwarnings(\"ignore\")\n",
        "\n",
        "# Imports necessários\n",
        "import pandas as pd\n",
        "import numpy as np\n",
        "import matplotlib.pyplot as plt\n",
        "from sklearn.datasets import load_diabetes # para importar o dataset diabetes\n",
        "from sklearn.model_selection import train_test_split # para particionar em bases de treino e teste (holdout)\n",
        "from sklearn.model_selection import KFold # para preparar os folds da validação cruzada\n",
        "from sklearn.model_selection import cross_val_score # para executar a validação cruzada\n",
        "from sklearn.metrics import mean_squared_error # métrica de avaliação MSE\n",
        "from sklearn.linear_model import LinearRegression # algoritmo Regressão Linear\n",
        "from sklearn.linear_model import Ridge # algoritmo Regularização Ridge\n",
        "from sklearn.linear_model import Lasso # algoritmo Regularização Lasso\n",
        "from sklearn.neighbors import KNeighborsRegressor # algoritmo KNN\n",
        "from sklearn.tree import DecisionTreeRegressor # algoritmo Árvore de Regressão\n",
        "from sklearn.svm import SVR # algoritmo SVM"
      ]
    },
    {
      "cell_type": "markdown",
      "metadata": {
        "id": "Z1YhC2ZILsoM"
      },
      "source": [
        "**2. Carga do dataset original:** Carregamos o dataset original de forma visualizar as colunas que compõem este dataset, e verificar se ele pode ser utilizado."
      ]
    },
    {
      "cell_type": "code",
      "execution_count": 2,
      "metadata": {
        "colab": {
          "base_uri": "https://localhost:8080/",
          "height": 206
        },
        "id": "VGEdZHUpYFpO",
        "outputId": "4d797f4c-d794-4661-905b-0f02b10847fa"
      },
      "outputs": [
        {
          "output_type": "execute_result",
          "data": {
            "text/plain": [
              "   work_year experience_level employment_type                 job_title  \\\n",
              "0       2023               SE              FT  Principal Data Scientist   \n",
              "1       2023               MI              CT               ML Engineer   \n",
              "2       2023               MI              CT               ML Engineer   \n",
              "3       2023               SE              FT            Data Scientist   \n",
              "4       2023               SE              FT            Data Scientist   \n",
              "\n",
              "  salary_currency employee_residence  remote_ratio company_location  \\\n",
              "0             EUR                 ES           100               ES   \n",
              "1             USD                 US           100               US   \n",
              "2             USD                 US           100               US   \n",
              "3             USD                 CA           100               CA   \n",
              "4             USD                 CA           100               CA   \n",
              "\n",
              "  company_size  salary  salary_in_usd  \n",
              "0            L   80000          85847  \n",
              "1            S   30000          30000  \n",
              "2            S   25500          25500  \n",
              "3            M  175000         175000  \n",
              "4            M  120000         120000  "
            ],
            "text/html": [
              "\n",
              "\n",
              "  <div id=\"df-eb1f431a-358b-431e-b426-cd7f9657e484\">\n",
              "    <div class=\"colab-df-container\">\n",
              "      <div>\n",
              "<style scoped>\n",
              "    .dataframe tbody tr th:only-of-type {\n",
              "        vertical-align: middle;\n",
              "    }\n",
              "\n",
              "    .dataframe tbody tr th {\n",
              "        vertical-align: top;\n",
              "    }\n",
              "\n",
              "    .dataframe thead th {\n",
              "        text-align: right;\n",
              "    }\n",
              "</style>\n",
              "<table border=\"1\" class=\"dataframe\">\n",
              "  <thead>\n",
              "    <tr style=\"text-align: right;\">\n",
              "      <th></th>\n",
              "      <th>work_year</th>\n",
              "      <th>experience_level</th>\n",
              "      <th>employment_type</th>\n",
              "      <th>job_title</th>\n",
              "      <th>salary_currency</th>\n",
              "      <th>employee_residence</th>\n",
              "      <th>remote_ratio</th>\n",
              "      <th>company_location</th>\n",
              "      <th>company_size</th>\n",
              "      <th>salary</th>\n",
              "      <th>salary_in_usd</th>\n",
              "    </tr>\n",
              "  </thead>\n",
              "  <tbody>\n",
              "    <tr>\n",
              "      <th>0</th>\n",
              "      <td>2023</td>\n",
              "      <td>SE</td>\n",
              "      <td>FT</td>\n",
              "      <td>Principal Data Scientist</td>\n",
              "      <td>EUR</td>\n",
              "      <td>ES</td>\n",
              "      <td>100</td>\n",
              "      <td>ES</td>\n",
              "      <td>L</td>\n",
              "      <td>80000</td>\n",
              "      <td>85847</td>\n",
              "    </tr>\n",
              "    <tr>\n",
              "      <th>1</th>\n",
              "      <td>2023</td>\n",
              "      <td>MI</td>\n",
              "      <td>CT</td>\n",
              "      <td>ML Engineer</td>\n",
              "      <td>USD</td>\n",
              "      <td>US</td>\n",
              "      <td>100</td>\n",
              "      <td>US</td>\n",
              "      <td>S</td>\n",
              "      <td>30000</td>\n",
              "      <td>30000</td>\n",
              "    </tr>\n",
              "    <tr>\n",
              "      <th>2</th>\n",
              "      <td>2023</td>\n",
              "      <td>MI</td>\n",
              "      <td>CT</td>\n",
              "      <td>ML Engineer</td>\n",
              "      <td>USD</td>\n",
              "      <td>US</td>\n",
              "      <td>100</td>\n",
              "      <td>US</td>\n",
              "      <td>S</td>\n",
              "      <td>25500</td>\n",
              "      <td>25500</td>\n",
              "    </tr>\n",
              "    <tr>\n",
              "      <th>3</th>\n",
              "      <td>2023</td>\n",
              "      <td>SE</td>\n",
              "      <td>FT</td>\n",
              "      <td>Data Scientist</td>\n",
              "      <td>USD</td>\n",
              "      <td>CA</td>\n",
              "      <td>100</td>\n",
              "      <td>CA</td>\n",
              "      <td>M</td>\n",
              "      <td>175000</td>\n",
              "      <td>175000</td>\n",
              "    </tr>\n",
              "    <tr>\n",
              "      <th>4</th>\n",
              "      <td>2023</td>\n",
              "      <td>SE</td>\n",
              "      <td>FT</td>\n",
              "      <td>Data Scientist</td>\n",
              "      <td>USD</td>\n",
              "      <td>CA</td>\n",
              "      <td>100</td>\n",
              "      <td>CA</td>\n",
              "      <td>M</td>\n",
              "      <td>120000</td>\n",
              "      <td>120000</td>\n",
              "    </tr>\n",
              "  </tbody>\n",
              "</table>\n",
              "</div>\n",
              "      <button class=\"colab-df-convert\" onclick=\"convertToInteractive('df-eb1f431a-358b-431e-b426-cd7f9657e484')\"\n",
              "              title=\"Convert this dataframe to an interactive table.\"\n",
              "              style=\"display:none;\">\n",
              "\n",
              "  <svg xmlns=\"http://www.w3.org/2000/svg\" height=\"24px\"viewBox=\"0 0 24 24\"\n",
              "       width=\"24px\">\n",
              "    <path d=\"M0 0h24v24H0V0z\" fill=\"none\"/>\n",
              "    <path d=\"M18.56 5.44l.94 2.06.94-2.06 2.06-.94-2.06-.94-.94-2.06-.94 2.06-2.06.94zm-11 1L8.5 8.5l.94-2.06 2.06-.94-2.06-.94L8.5 2.5l-.94 2.06-2.06.94zm10 10l.94 2.06.94-2.06 2.06-.94-2.06-.94-.94-2.06-.94 2.06-2.06.94z\"/><path d=\"M17.41 7.96l-1.37-1.37c-.4-.4-.92-.59-1.43-.59-.52 0-1.04.2-1.43.59L10.3 9.45l-7.72 7.72c-.78.78-.78 2.05 0 2.83L4 21.41c.39.39.9.59 1.41.59.51 0 1.02-.2 1.41-.59l7.78-7.78 2.81-2.81c.8-.78.8-2.07 0-2.86zM5.41 20L4 18.59l7.72-7.72 1.47 1.35L5.41 20z\"/>\n",
              "  </svg>\n",
              "      </button>\n",
              "\n",
              "\n",
              "\n",
              "    <div id=\"df-f29ac260-cc94-4d58-89a7-dbfd21103d84\">\n",
              "      <button class=\"colab-df-quickchart\" onclick=\"quickchart('df-f29ac260-cc94-4d58-89a7-dbfd21103d84')\"\n",
              "              title=\"Suggest charts.\"\n",
              "              style=\"display:none;\">\n",
              "\n",
              "<svg xmlns=\"http://www.w3.org/2000/svg\" height=\"24px\"viewBox=\"0 0 24 24\"\n",
              "     width=\"24px\">\n",
              "    <g>\n",
              "        <path d=\"M19 3H5c-1.1 0-2 .9-2 2v14c0 1.1.9 2 2 2h14c1.1 0 2-.9 2-2V5c0-1.1-.9-2-2-2zM9 17H7v-7h2v7zm4 0h-2V7h2v10zm4 0h-2v-4h2v4z\"/>\n",
              "    </g>\n",
              "</svg>\n",
              "      </button>\n",
              "    </div>\n",
              "\n",
              "<style>\n",
              "  .colab-df-quickchart {\n",
              "    background-color: #E8F0FE;\n",
              "    border: none;\n",
              "    border-radius: 50%;\n",
              "    cursor: pointer;\n",
              "    display: none;\n",
              "    fill: #1967D2;\n",
              "    height: 32px;\n",
              "    padding: 0 0 0 0;\n",
              "    width: 32px;\n",
              "  }\n",
              "\n",
              "  .colab-df-quickchart:hover {\n",
              "    background-color: #E2EBFA;\n",
              "    box-shadow: 0px 1px 2px rgba(60, 64, 67, 0.3), 0px 1px 3px 1px rgba(60, 64, 67, 0.15);\n",
              "    fill: #174EA6;\n",
              "  }\n",
              "\n",
              "  [theme=dark] .colab-df-quickchart {\n",
              "    background-color: #3B4455;\n",
              "    fill: #D2E3FC;\n",
              "  }\n",
              "\n",
              "  [theme=dark] .colab-df-quickchart:hover {\n",
              "    background-color: #434B5C;\n",
              "    box-shadow: 0px 1px 3px 1px rgba(0, 0, 0, 0.15);\n",
              "    filter: drop-shadow(0px 1px 2px rgba(0, 0, 0, 0.3));\n",
              "    fill: #FFFFFF;\n",
              "  }\n",
              "</style>\n",
              "\n",
              "    <script>\n",
              "      async function quickchart(key) {\n",
              "        const containerElement = document.querySelector('#' + key);\n",
              "        const charts = await google.colab.kernel.invokeFunction(\n",
              "            'suggestCharts', [key], {});\n",
              "      }\n",
              "    </script>\n",
              "\n",
              "      <script>\n",
              "\n",
              "function displayQuickchartButton(domScope) {\n",
              "  let quickchartButtonEl =\n",
              "    domScope.querySelector('#df-f29ac260-cc94-4d58-89a7-dbfd21103d84 button.colab-df-quickchart');\n",
              "  quickchartButtonEl.style.display =\n",
              "    google.colab.kernel.accessAllowed ? 'block' : 'none';\n",
              "}\n",
              "\n",
              "        displayQuickchartButton(document);\n",
              "      </script>\n",
              "      <style>\n",
              "    .colab-df-container {\n",
              "      display:flex;\n",
              "      flex-wrap:wrap;\n",
              "      gap: 12px;\n",
              "    }\n",
              "\n",
              "    .colab-df-convert {\n",
              "      background-color: #E8F0FE;\n",
              "      border: none;\n",
              "      border-radius: 50%;\n",
              "      cursor: pointer;\n",
              "      display: none;\n",
              "      fill: #1967D2;\n",
              "      height: 32px;\n",
              "      padding: 0 0 0 0;\n",
              "      width: 32px;\n",
              "    }\n",
              "\n",
              "    .colab-df-convert:hover {\n",
              "      background-color: #E2EBFA;\n",
              "      box-shadow: 0px 1px 2px rgba(60, 64, 67, 0.3), 0px 1px 3px 1px rgba(60, 64, 67, 0.15);\n",
              "      fill: #174EA6;\n",
              "    }\n",
              "\n",
              "    [theme=dark] .colab-df-convert {\n",
              "      background-color: #3B4455;\n",
              "      fill: #D2E3FC;\n",
              "    }\n",
              "\n",
              "    [theme=dark] .colab-df-convert:hover {\n",
              "      background-color: #434B5C;\n",
              "      box-shadow: 0px 1px 3px 1px rgba(0, 0, 0, 0.15);\n",
              "      filter: drop-shadow(0px 1px 2px rgba(0, 0, 0, 0.3));\n",
              "      fill: #FFFFFF;\n",
              "    }\n",
              "  </style>\n",
              "\n",
              "      <script>\n",
              "        const buttonEl =\n",
              "          document.querySelector('#df-eb1f431a-358b-431e-b426-cd7f9657e484 button.colab-df-convert');\n",
              "        buttonEl.style.display =\n",
              "          google.colab.kernel.accessAllowed ? 'block' : 'none';\n",
              "\n",
              "        async function convertToInteractive(key) {\n",
              "          const element = document.querySelector('#df-eb1f431a-358b-431e-b426-cd7f9657e484');\n",
              "          const dataTable =\n",
              "            await google.colab.kernel.invokeFunction('convertToInteractive',\n",
              "                                                     [key], {});\n",
              "          if (!dataTable) return;\n",
              "\n",
              "          const docLinkHtml = 'Like what you see? Visit the ' +\n",
              "            '<a target=\"_blank\" href=https://colab.research.google.com/notebooks/data_table.ipynb>data table notebook</a>'\n",
              "            + ' to learn more about interactive tables.';\n",
              "          element.innerHTML = '';\n",
              "          dataTable['output_type'] = 'display_data';\n",
              "          await google.colab.output.renderOutput(dataTable, element);\n",
              "          const docLink = document.createElement('div');\n",
              "          docLink.innerHTML = docLinkHtml;\n",
              "          element.appendChild(docLink);\n",
              "        }\n",
              "      </script>\n",
              "    </div>\n",
              "  </div>\n"
            ]
          },
          "metadata": {},
          "execution_count": 2
        }
      ],
      "source": [
        "# Carga do dataset não tratado\n",
        "url = 'http://raw.githubusercontent.com/alanrolemberg/mvp/main/ds_salaries_prepared.csv'\n",
        "\n",
        "# Carga do dataset não tratado\n",
        "df_orig = pd.read_csv(url,delimiter=';',)\n",
        "\n",
        "# Exibição das primeiras linhas do dataset\n",
        "df_orig.head()\n"
      ]
    },
    {
      "cell_type": "markdown",
      "metadata": {
        "id": "4OTqXqehOxrI"
      },
      "source": [
        " **3. Pré-processamento dos dados:** Nosso problema é de regressão. NEste tipo de problema, para conseguirmos lidar com colunas do tipo texto, vamos convertê-las para pesos e/ou numerações que representem as categorias.\n",
        "\n",
        "O atributo \"Tamanho da empresa\" será substituído pelos pesos a seguir: Pequena (Peso 5), Média (Peso 25), Grande (Peso 100).\n",
        "\n",
        "Os atributos \"País da empresa\", \"País do empregado\", \"Tipo de contratação\" e \"Nome do cargo\" serão substituídos por codificações.\n",
        "\n",
        ">**Observação importante:** Tentamos fazer uso do \"OneHotEncoding\" e do \"GetDummies\" para evitar as substituições citadas acima, mas chegamos a conclusão de que a conversão para colunas binárias nos traria prejuízos na hora de se executar o processo de \"Feature Selection\", devido ao fato de que este processo \"quebra\" o atributo em vários atributos, modificando a condição da análise que é feita pelos algoritmos de \"Feature Selection\". Portanto, usamos a abordagem de substituição de variáveis por códigos ou pesos.\n",
        "\n",
        "Removemos o atributo \"salário\" devido a redundância, e adotamos o atributo \"salário em dólar\" como atributo target para garantir uniformidade de medição.\n",
        "\n",
        "Dessa forma iremos reimportar o dataset tratado para fins de comparação:\n"
      ]
    },
    {
      "cell_type": "markdown",
      "metadata": {
        "id": "-wHig4k_PUR7"
      },
      "source": [
        "**4. Carga do dataset pré-processado:** Manipulamos o dataset via EXCEL para substituição de variáveis categóricas por pesos ou códigos, e geramos este novo dataset que será carregado abaixo."
      ]
    },
    {
      "cell_type": "code",
      "execution_count": 3,
      "metadata": {
        "colab": {
          "base_uri": "https://localhost:8080/",
          "height": 206
        },
        "id": "2vp1iPJIPbtF",
        "outputId": "dbfe6efb-2bac-4e1e-b000-36b03683ebb6"
      },
      "outputs": [
        {
          "output_type": "execute_result",
          "data": {
            "text/plain": [
              "   work_year  Experience_level_coded  employment_type_code  job_title_code  \\\n",
              "0       2023                       3                     3              86   \n",
              "1       2023                       2                     1              78   \n",
              "2       2023                       2                     1              78   \n",
              "3       2023                       3                     3              48   \n",
              "4       2023                       3                     3              48   \n",
              "\n",
              "   employee_residence  remote_ratio  company_location  company_size_numeric  \\\n",
              "0                  65           100                65                   100   \n",
              "1                 228           100               228                     5   \n",
              "2                 228           100               228                     5   \n",
              "3                  36           100                36                    25   \n",
              "4                  36           100                36                    25   \n",
              "\n",
              "   salary_in_usd  \n",
              "0          85847  \n",
              "1          30000  \n",
              "2          25500  \n",
              "3         175000  \n",
              "4         120000  "
            ],
            "text/html": [
              "\n",
              "\n",
              "  <div id=\"df-f450fca5-2077-4b04-84a3-60b97665798a\">\n",
              "    <div class=\"colab-df-container\">\n",
              "      <div>\n",
              "<style scoped>\n",
              "    .dataframe tbody tr th:only-of-type {\n",
              "        vertical-align: middle;\n",
              "    }\n",
              "\n",
              "    .dataframe tbody tr th {\n",
              "        vertical-align: top;\n",
              "    }\n",
              "\n",
              "    .dataframe thead th {\n",
              "        text-align: right;\n",
              "    }\n",
              "</style>\n",
              "<table border=\"1\" class=\"dataframe\">\n",
              "  <thead>\n",
              "    <tr style=\"text-align: right;\">\n",
              "      <th></th>\n",
              "      <th>work_year</th>\n",
              "      <th>Experience_level_coded</th>\n",
              "      <th>employment_type_code</th>\n",
              "      <th>job_title_code</th>\n",
              "      <th>employee_residence</th>\n",
              "      <th>remote_ratio</th>\n",
              "      <th>company_location</th>\n",
              "      <th>company_size_numeric</th>\n",
              "      <th>salary_in_usd</th>\n",
              "    </tr>\n",
              "  </thead>\n",
              "  <tbody>\n",
              "    <tr>\n",
              "      <th>0</th>\n",
              "      <td>2023</td>\n",
              "      <td>3</td>\n",
              "      <td>3</td>\n",
              "      <td>86</td>\n",
              "      <td>65</td>\n",
              "      <td>100</td>\n",
              "      <td>65</td>\n",
              "      <td>100</td>\n",
              "      <td>85847</td>\n",
              "    </tr>\n",
              "    <tr>\n",
              "      <th>1</th>\n",
              "      <td>2023</td>\n",
              "      <td>2</td>\n",
              "      <td>1</td>\n",
              "      <td>78</td>\n",
              "      <td>228</td>\n",
              "      <td>100</td>\n",
              "      <td>228</td>\n",
              "      <td>5</td>\n",
              "      <td>30000</td>\n",
              "    </tr>\n",
              "    <tr>\n",
              "      <th>2</th>\n",
              "      <td>2023</td>\n",
              "      <td>2</td>\n",
              "      <td>1</td>\n",
              "      <td>78</td>\n",
              "      <td>228</td>\n",
              "      <td>100</td>\n",
              "      <td>228</td>\n",
              "      <td>5</td>\n",
              "      <td>25500</td>\n",
              "    </tr>\n",
              "    <tr>\n",
              "      <th>3</th>\n",
              "      <td>2023</td>\n",
              "      <td>3</td>\n",
              "      <td>3</td>\n",
              "      <td>48</td>\n",
              "      <td>36</td>\n",
              "      <td>100</td>\n",
              "      <td>36</td>\n",
              "      <td>25</td>\n",
              "      <td>175000</td>\n",
              "    </tr>\n",
              "    <tr>\n",
              "      <th>4</th>\n",
              "      <td>2023</td>\n",
              "      <td>3</td>\n",
              "      <td>3</td>\n",
              "      <td>48</td>\n",
              "      <td>36</td>\n",
              "      <td>100</td>\n",
              "      <td>36</td>\n",
              "      <td>25</td>\n",
              "      <td>120000</td>\n",
              "    </tr>\n",
              "  </tbody>\n",
              "</table>\n",
              "</div>\n",
              "      <button class=\"colab-df-convert\" onclick=\"convertToInteractive('df-f450fca5-2077-4b04-84a3-60b97665798a')\"\n",
              "              title=\"Convert this dataframe to an interactive table.\"\n",
              "              style=\"display:none;\">\n",
              "\n",
              "  <svg xmlns=\"http://www.w3.org/2000/svg\" height=\"24px\"viewBox=\"0 0 24 24\"\n",
              "       width=\"24px\">\n",
              "    <path d=\"M0 0h24v24H0V0z\" fill=\"none\"/>\n",
              "    <path d=\"M18.56 5.44l.94 2.06.94-2.06 2.06-.94-2.06-.94-.94-2.06-.94 2.06-2.06.94zm-11 1L8.5 8.5l.94-2.06 2.06-.94-2.06-.94L8.5 2.5l-.94 2.06-2.06.94zm10 10l.94 2.06.94-2.06 2.06-.94-2.06-.94-.94-2.06-.94 2.06-2.06.94z\"/><path d=\"M17.41 7.96l-1.37-1.37c-.4-.4-.92-.59-1.43-.59-.52 0-1.04.2-1.43.59L10.3 9.45l-7.72 7.72c-.78.78-.78 2.05 0 2.83L4 21.41c.39.39.9.59 1.41.59.51 0 1.02-.2 1.41-.59l7.78-7.78 2.81-2.81c.8-.78.8-2.07 0-2.86zM5.41 20L4 18.59l7.72-7.72 1.47 1.35L5.41 20z\"/>\n",
              "  </svg>\n",
              "      </button>\n",
              "\n",
              "\n",
              "\n",
              "    <div id=\"df-24073bda-bd87-45f6-b19c-5424f07d344d\">\n",
              "      <button class=\"colab-df-quickchart\" onclick=\"quickchart('df-24073bda-bd87-45f6-b19c-5424f07d344d')\"\n",
              "              title=\"Suggest charts.\"\n",
              "              style=\"display:none;\">\n",
              "\n",
              "<svg xmlns=\"http://www.w3.org/2000/svg\" height=\"24px\"viewBox=\"0 0 24 24\"\n",
              "     width=\"24px\">\n",
              "    <g>\n",
              "        <path d=\"M19 3H5c-1.1 0-2 .9-2 2v14c0 1.1.9 2 2 2h14c1.1 0 2-.9 2-2V5c0-1.1-.9-2-2-2zM9 17H7v-7h2v7zm4 0h-2V7h2v10zm4 0h-2v-4h2v4z\"/>\n",
              "    </g>\n",
              "</svg>\n",
              "      </button>\n",
              "    </div>\n",
              "\n",
              "<style>\n",
              "  .colab-df-quickchart {\n",
              "    background-color: #E8F0FE;\n",
              "    border: none;\n",
              "    border-radius: 50%;\n",
              "    cursor: pointer;\n",
              "    display: none;\n",
              "    fill: #1967D2;\n",
              "    height: 32px;\n",
              "    padding: 0 0 0 0;\n",
              "    width: 32px;\n",
              "  }\n",
              "\n",
              "  .colab-df-quickchart:hover {\n",
              "    background-color: #E2EBFA;\n",
              "    box-shadow: 0px 1px 2px rgba(60, 64, 67, 0.3), 0px 1px 3px 1px rgba(60, 64, 67, 0.15);\n",
              "    fill: #174EA6;\n",
              "  }\n",
              "\n",
              "  [theme=dark] .colab-df-quickchart {\n",
              "    background-color: #3B4455;\n",
              "    fill: #D2E3FC;\n",
              "  }\n",
              "\n",
              "  [theme=dark] .colab-df-quickchart:hover {\n",
              "    background-color: #434B5C;\n",
              "    box-shadow: 0px 1px 3px 1px rgba(0, 0, 0, 0.15);\n",
              "    filter: drop-shadow(0px 1px 2px rgba(0, 0, 0, 0.3));\n",
              "    fill: #FFFFFF;\n",
              "  }\n",
              "</style>\n",
              "\n",
              "    <script>\n",
              "      async function quickchart(key) {\n",
              "        const containerElement = document.querySelector('#' + key);\n",
              "        const charts = await google.colab.kernel.invokeFunction(\n",
              "            'suggestCharts', [key], {});\n",
              "      }\n",
              "    </script>\n",
              "\n",
              "      <script>\n",
              "\n",
              "function displayQuickchartButton(domScope) {\n",
              "  let quickchartButtonEl =\n",
              "    domScope.querySelector('#df-24073bda-bd87-45f6-b19c-5424f07d344d button.colab-df-quickchart');\n",
              "  quickchartButtonEl.style.display =\n",
              "    google.colab.kernel.accessAllowed ? 'block' : 'none';\n",
              "}\n",
              "\n",
              "        displayQuickchartButton(document);\n",
              "      </script>\n",
              "      <style>\n",
              "    .colab-df-container {\n",
              "      display:flex;\n",
              "      flex-wrap:wrap;\n",
              "      gap: 12px;\n",
              "    }\n",
              "\n",
              "    .colab-df-convert {\n",
              "      background-color: #E8F0FE;\n",
              "      border: none;\n",
              "      border-radius: 50%;\n",
              "      cursor: pointer;\n",
              "      display: none;\n",
              "      fill: #1967D2;\n",
              "      height: 32px;\n",
              "      padding: 0 0 0 0;\n",
              "      width: 32px;\n",
              "    }\n",
              "\n",
              "    .colab-df-convert:hover {\n",
              "      background-color: #E2EBFA;\n",
              "      box-shadow: 0px 1px 2px rgba(60, 64, 67, 0.3), 0px 1px 3px 1px rgba(60, 64, 67, 0.15);\n",
              "      fill: #174EA6;\n",
              "    }\n",
              "\n",
              "    [theme=dark] .colab-df-convert {\n",
              "      background-color: #3B4455;\n",
              "      fill: #D2E3FC;\n",
              "    }\n",
              "\n",
              "    [theme=dark] .colab-df-convert:hover {\n",
              "      background-color: #434B5C;\n",
              "      box-shadow: 0px 1px 3px 1px rgba(0, 0, 0, 0.15);\n",
              "      filter: drop-shadow(0px 1px 2px rgba(0, 0, 0, 0.3));\n",
              "      fill: #FFFFFF;\n",
              "    }\n",
              "  </style>\n",
              "\n",
              "      <script>\n",
              "        const buttonEl =\n",
              "          document.querySelector('#df-f450fca5-2077-4b04-84a3-60b97665798a button.colab-df-convert');\n",
              "        buttonEl.style.display =\n",
              "          google.colab.kernel.accessAllowed ? 'block' : 'none';\n",
              "\n",
              "        async function convertToInteractive(key) {\n",
              "          const element = document.querySelector('#df-f450fca5-2077-4b04-84a3-60b97665798a');\n",
              "          const dataTable =\n",
              "            await google.colab.kernel.invokeFunction('convertToInteractive',\n",
              "                                                     [key], {});\n",
              "          if (!dataTable) return;\n",
              "\n",
              "          const docLinkHtml = 'Like what you see? Visit the ' +\n",
              "            '<a target=\"_blank\" href=https://colab.research.google.com/notebooks/data_table.ipynb>data table notebook</a>'\n",
              "            + ' to learn more about interactive tables.';\n",
              "          element.innerHTML = '';\n",
              "          dataTable['output_type'] = 'display_data';\n",
              "          await google.colab.output.renderOutput(dataTable, element);\n",
              "          const docLink = document.createElement('div');\n",
              "          docLink.innerHTML = docLinkHtml;\n",
              "          element.appendChild(docLink);\n",
              "        }\n",
              "      </script>\n",
              "    </div>\n",
              "  </div>\n"
            ]
          },
          "metadata": {},
          "execution_count": 3
        }
      ],
      "source": [
        "# Carga do dataset pré-processado\n",
        "url = 'https://raw.githubusercontent.com/alanrolemberg/mvp/main/ds_salaries_prepared6.csv'\n",
        "\n",
        "# Carga do dataset pré-processado\n",
        "df = pd.read_csv(url,delimiter=';')\n",
        "\n",
        "# Exibição das primeiras linhas do dataset\n",
        "df.head()"
      ]
    },
    {
      "cell_type": "markdown",
      "metadata": {
        "id": "I-7a2ugLMMqo"
      },
      "source": [
        "**5. Separação em base de treino e testes:**\n",
        "\n",
        "Separamos nosso conjunto, destinando 80% para a base de treino e 20% para a base de testes."
      ]
    },
    {
      "cell_type": "code",
      "execution_count": 4,
      "metadata": {
        "colab": {
          "base_uri": "https://localhost:8080/"
        },
        "id": "CpZgzNECTmo3",
        "outputId": "2d95db5e-2bbc-48c1-c18d-51f88cf3df5f"
      },
      "outputs": [
        {
          "output_type": "stream",
          "name": "stdout",
          "text": [
            "[[2023    3    3 ...  100   65  100]\n",
            " [2023    2    1 ...  100  228    5]\n",
            " [2023    2    1 ...  100  228    5]\n",
            " ...\n",
            " [2020    1    3 ...  100  228    5]\n",
            " [2020    1    1 ...  100  228  100]\n",
            " [2021    3    3 ...   50  103  100]]\n"
          ]
        }
      ],
      "source": [
        "#Separação em bases de treino e teste (holdout)\n",
        "array = df.values\n",
        "X = array[:,0:8]\n",
        "y = array[:,8] # classe (target)\n",
        "print(X)\n",
        "X_train, X_test, y_train, y_test = train_test_split(X, y, test_size=0.20, random_state=7) # faz a divisão\n",
        "\n",
        "# Criando os folds para a validação cruzada\n",
        "num_particoes = 10 # número de folds da validação cruzada\n",
        "kfold = KFold(n_splits=num_particoes, shuffle=True, random_state=7) # faz o particionamento em 10 folds"
      ]
    },
    {
      "cell_type": "markdown",
      "metadata": {
        "id": "xRt6MYjGMU5u"
      },
      "source": [
        "**6. Modelagem:**\n",
        "\n",
        "Criamos nosso modelo e adicionamos 5 algoritmos de regressão para gerar as análises do modelo. A métrica para avaliação dos modelos será o erro quadrático médio, através do método de validação cruzada."
      ]
    },
    {
      "cell_type": "code",
      "execution_count": 5,
      "metadata": {
        "colab": {
          "base_uri": "https://localhost:8080/",
          "height": 582
        },
        "id": "WCwi5olTYPXt",
        "outputId": "f34e8603-7575-4fb7-e4e5-e1c0db864d9a"
      },
      "outputs": [
        {
          "output_type": "stream",
          "name": "stdout",
          "text": [
            "LR: MSE 2992400074.39 (403308434.59) - RMSE 54702.83\n",
            "Ridge: MSE 2992270706.35 (403138735.34) - RMSE 54701.65\n",
            "Lasso: MSE 2992356821.02 (403255496.92) - RMSE 54702.44\n",
            "KNN: MSE 2946590872.46 (420224324.38) - RMSE 54282.51\n",
            "CART: MSE 2951575054.03 (369578566.93) - RMSE 54328.40\n",
            "SVM: MSE 4018742618.61 (465318464.50) - RMSE 63393.55\n"
          ]
        },
        {
          "output_type": "display_data",
          "data": {
            "text/plain": [
              "<Figure size 640x480 with 1 Axes>"
            ],
            "image/png": "[encoded data removed]"
          },
          "metadata": {}
        }
      ],
      "source": [
        "# Modelagem\n",
        "\n",
        "# Definindo uma seed global para esta célula de código\n",
        "np.random.seed(7)\n",
        "\n",
        "# Listas para armazenar os modelos, os resultados e os nomes dos modelos\n",
        "models = []\n",
        "results = []\n",
        "names = []\n",
        "\n",
        "# Preparando os modelos e adicionando-os em uma lista\n",
        "models.append(('LR', LinearRegression()))\n",
        "models.append(('Ridge', Ridge()))\n",
        "models.append(('Lasso', Lasso()))\n",
        "models.append(('KNN', KNeighborsRegressor()))\n",
        "models.append(('CART', DecisionTreeRegressor()))\n",
        "models.append(('SVM', SVR()))\n",
        "\n",
        "# Avaliando um modelo por vez\n",
        "for name, model in models:\n",
        "  cv_results = cross_val_score(model, X_train, y_train, cv=kfold, scoring='neg_mean_squared_error')\n",
        "  results.append(cv_results)\n",
        "  names.append(name)\n",
        "  # imprime MSE, desvio padrão do MSE e RMSE dos 10 resultados da validação cruzada\n",
        "  msg = \"%s: MSE %0.2f (%0.2f) - RMSE %0.2f\" % (name, abs(cv_results.mean()), cv_results.std(), np.sqrt(abs(cv_results.mean())))\n",
        "  print(msg)\n",
        "\n",
        "\n",
        "# Boxplot de comparação dos modelos\n",
        "fig = plt.figure()\n",
        "fig.suptitle('Comparação do MSE dos Modelos')\n",
        "ax = fig.add_subplot(111)\n",
        "plt.boxplot(results)\n",
        "ax.set_xticklabels(names)\n",
        "plt.show()"
      ]
    },
    {
      "cell_type": "markdown",
      "metadata": {
        "id": "g_CElu0xOA7B"
      },
      "source": [
        ">**DESCOBERTA:** O KNN é o modelo que trouxe melhor performance com este DATASET.\n",
        "\n"
      ]
    },
    {
      "cell_type": "markdown",
      "metadata": {
        "id": "QD4Xr2OCP1aC"
      },
      "source": [
        "**7. Avaliação dos modelos no conjunto de treino:**\n",
        "-  O KNN é o modelo que trouxe melhor performance com o conjunto de teste, trazendo um menor erro quadrático em relação aos demais, mas com valores próximos aos algoritmos LR, Ridge, Lasso e CART.\n",
        "- o SVM é o modelo que trouxe a pior performance com o conjunto de teste, trazendo um maior erro quadrático em relação aos demais."
      ]
    },
    {
      "cell_type": "markdown",
      "metadata": {
        "id": "Yzz3iwl9RAtL"
      },
      "source": [
        "**8. Avaliação do modelo vencedor com todo o conjunto de teste:**"
      ]
    },
    {
      "cell_type": "code",
      "execution_count": 6,
      "metadata": {
        "colab": {
          "base_uri": "https://localhost:8080/"
        },
        "id": "6W6ftDx5YSKZ",
        "outputId": "2b26462e-cf67-46b1-b3f0-16c1c19b196b"
      },
      "outputs": [
        {
          "output_type": "stream",
          "name": "stdout",
          "text": [
            "MSE 2737845613.44\n",
            "RMSE 52324.43\n"
          ]
        }
      ],
      "source": [
        "# Criando um modelo com todo o conjunto de treino\n",
        "model = KNeighborsRegressor()\n",
        "model.fit(X_train, y_train)\n",
        "\n",
        "# Fazendo as predições com o conjunto de teste\n",
        "predictions = model.predict(X_test)\n",
        "\n",
        "# Estimando o MSE e o RMSE no conjunto de teste\n",
        "mse = mean_squared_error(y_test, predictions)\n",
        "print(\"MSE %0.2f\" % mse)\n",
        "print(\"RMSE %0.2f\" % np.sqrt(abs(mse)))"
      ]
    },
    {
      "cell_type": "markdown",
      "metadata": {
        "id": "NFZABiqmRo8n"
      },
      "source": [
        ">**DESCOBERTA:** O valor do RMSE melhorou quando submetido ao conjunto de teste."
      ]
    },
    {
      "cell_type": "markdown",
      "metadata": {
        "id": "UnE3ux2EFkMK"
      },
      "source": [
        "**8. Processo de feature selection**"
      ]
    },
    {
      "cell_type": "markdown",
      "metadata": {
        "id": "86b3JdNYSR2h"
      },
      "source": [
        "**8.1 Importação de bibliotecas**"
      ]
    },
    {
      "cell_type": "code",
      "execution_count": 7,
      "metadata": {
        "id": "dOrGRbuiFdiB"
      },
      "outputs": [],
      "source": [
        "from sklearn.feature_selection import SelectKBest # para a Seleção Univariada\n",
        "from sklearn.feature_selection import f_classif # para o teste ANOVA da Seleção Univariada\n",
        "from sklearn.feature_selection import RFE # para a Eliminação Recursiva de Atributos\n",
        "from sklearn.linear_model import LogisticRegression # Regressão Logística, para a Eliminação Recursiva de Atributos\n",
        "from sklearn.ensemble import ExtraTreesClassifier # ExtraTrees, para a Importância de Atributos"
      ]
    },
    {
      "cell_type": "markdown",
      "metadata": {
        "id": "50upq3gySe_I"
      },
      "source": [
        "**8.2 Uso do SelectKBest**"
      ]
    },
    {
      "cell_type": "code",
      "execution_count": 8,
      "metadata": {
        "colab": {
          "base_uri": "https://localhost:8080/"
        },
        "id": "6XvDwVIW3Z-V",
        "outputId": "27da5313-a5d5-41ca-b883-99edabddf528"
      },
      "outputs": [
        {
          "output_type": "stream",
          "name": "stdout",
          "text": [
            "\n",
            "Número original de atributos: 8\n",
            "\n",
            "Número reduzido de atributos: 4\n",
            "\n",
            "Atributos Originais: Index(['work_year', 'Experience_level_coded', 'employment_type_code',\n",
            "       'job_title_code', 'employee_residence', 'remote_ratio',\n",
            "       'company_location', 'company_size_numeric'],\n",
            "      dtype='object')\n",
            "\n",
            "Scores dos Atributos Originais: [3.013 2.919 2.756 1.911 8.981 2.    9.421 3.408]\n",
            "\n",
            "Atributos Selecionados: ['work_year' 'employee_residence' 'company_location'\n",
            " 'company_size_numeric']\n"
          ]
        }
      ],
      "source": [
        "# SelectKBest\n",
        "\n",
        "# Seleção de atributos com SelectKBest\n",
        "best_var = SelectKBest(score_func=f_classif, k=4)\n",
        "\n",
        "# Executa a função de pontuação em (X, y) e obtém os atributos selecionados\n",
        "fit = best_var.fit(X, y)\n",
        "\n",
        "# Reduz X para os atributos selecionados\n",
        "features = fit.transform(X)\n",
        "\n",
        "# Resultados\n",
        "print('\\nNúmero original de atributos:', X.shape[1])\n",
        "print('\\nNúmero reduzido de atributos:', features.shape[1])\n",
        "\n",
        "# Exibe os atributos orginais\n",
        "print(\"\\nAtributos Originais:\", df.columns[0:8])\n",
        "\n",
        "# Exibe as pontuações de cada atributos e os 4 escolhidas (com as pontuações mais altas)\n",
        "np.set_printoptions(precision=3) # 3 casas decimais\n",
        "print(\"\\nScores dos Atributos Originais:\", fit.scores_)\n",
        "print(\"\\nAtributos Selecionados:\", best_var.get_feature_names_out(input_features=df.columns[0:8]))"
      ]
    },
    {
      "cell_type": "markdown",
      "metadata": {
        "id": "wCz7T6J9NK-W"
      },
      "source": [
        ">**DESCOBERTA:** Este algoritmo classificou os atributos ['work_year' 'employee_residence' 'company_location'\n",
        " 'company_size_numeric'] como os mais importantes."
      ]
    },
    {
      "cell_type": "markdown",
      "metadata": {
        "id": "IfdQxOTFSnWx"
      },
      "source": [
        "**8.2 Uso do RFE**"
      ]
    },
    {
      "cell_type": "code",
      "execution_count": 9,
      "metadata": {
        "colab": {
          "base_uri": "https://localhost:8080/"
        },
        "id": "dXJwURixKPlt",
        "outputId": "3dc5697f-affe-4948-ce85-db1516eef946"
      },
      "outputs": [
        {
          "output_type": "stream",
          "name": "stdout",
          "text": [
            "Atributos Originais: Index(['work_year', 'Experience_level_coded', 'employment_type_code',\n",
            "       'job_title_code', 'employee_residence', 'remote_ratio',\n",
            "       'company_location', 'company_size_numeric'],\n",
            "      dtype='object')\n",
            "\n",
            "Atributos Selecionados: [False False False  True False  True False  True]\n",
            "\n",
            "Ranking de atributos: [4 5 6 1 2 1 3 1]\n",
            "\n",
            "Qtd de melhores Atributos: 3\n",
            "\n",
            "Nomes dos Atributos Selecionados como melhores: ['job_title_code' 'remote_ratio' 'company_size_numeric']\n"
          ]
        }
      ],
      "source": [
        "# Eliminação Recursiva de Atributos (RFE)\n",
        "\n",
        "# Criação do modelo\n",
        "modelo = LogisticRegression(max_iter=100)\n",
        "\n",
        "# Descobrir 3 atributos com maior influência nos resultados\n",
        "rfe = RFE(modelo, n_features_to_select=3)\n",
        "fit = rfe.fit(X, y)\n",
        "\n",
        "# Print dos resultados\n",
        "print(\"Atributos Originais:\", df.columns[0:8])\n",
        "\n",
        "# Exibe os atributos selecionados (marcados como True em \"Atributos Selecionados\"\n",
        "# e com valor 1 em \"Ranking dos Atributos\")\n",
        "print(\"\\nAtributos Selecionados: %s\" % fit.support_)\n",
        "print(\"\\nRanking de atributos: %s\" % fit.ranking_)\n",
        "print(\"\\nQtd de melhores Atributos: %d\" % fit.n_features_)\n",
        "print(\"\\nNomes dos Atributos Selecionados como melhores: %s\" % fit.get_feature_names_out(input_features=df.columns[0:8]))"
      ]
    },
    {
      "cell_type": "markdown",
      "metadata": {
        "id": "nQPxhd58Nj4j"
      },
      "source": [
        ">**DESCOBERTA:** Este algoritmo classificou os atributos ['job_title_code' 'remote_ratio' 'company_size_numeric'] como os mais importantes."
      ]
    },
    {
      "cell_type": "markdown",
      "metadata": {
        "id": "quHZTjnqThlU"
      },
      "source": [
        "**8.3 Uso de ExtraTrees**"
      ]
    },
    {
      "cell_type": "code",
      "execution_count": 10,
      "metadata": {
        "colab": {
          "base_uri": "https://localhost:8080/"
        },
        "id": "oTsFPcN44Xe3",
        "outputId": "9eca1dbe-b762-4836-f242-d856991b9f14"
      },
      "outputs": [
        {
          "output_type": "stream",
          "name": "stdout",
          "text": [
            "\n",
            "Atributos Originais: Index(['work_year', 'Experience_level_coded', 'employment_type_code',\n",
            "       'job_title_code', 'employee_residence', 'remote_ratio',\n",
            "       'company_location', 'company_size_numeric'],\n",
            "      dtype='object')\n",
            "[0.121 0.073 0.019 0.425 0.124 0.055 0.116 0.067]\n",
            " O melhor atributo tem importancia de:  0.4251627715682816\n"
          ]
        }
      ],
      "source": [
        "# Importância de Atributos com ExtraTrees\n",
        "\n",
        "# Criação do modelo para seleção de atributos\n",
        "modelo = ExtraTreesClassifier(n_estimators=100)\n",
        "modelo.fit(X,y)\n",
        "\n",
        "# Exibe os atributos orginais\n",
        "print(\"\\nAtributos Originais:\", df.columns[0:8])\n",
        "\n",
        "# Exibe a pontuação de importância para cada atributo (quanto maior a pontuação, mais importante é o atributo).\n",
        "print(modelo.feature_importances_)\n",
        "\n",
        "print(\" O melhor atributo tem importancia de: \",max(modelo.feature_importances_))"
      ]
    },
    {
      "cell_type": "markdown",
      "metadata": {
        "id": "04JTZ4w1XhoL"
      },
      "source": [
        ">**DESCOBERTA:** Este algoritmo classificou o atributo ['job_title_code'] como o mais importante."
      ]
    },
    {
      "cell_type": "markdown",
      "metadata": {
        "id": "S7AtuY4LNFZb"
      },
      "source": [
        "**9. Redução da dimensionalidade (aplicando o feature selection)**\n",
        "\n",
        "Dentro do estudado, vamos então refazer a predição nos baseando apenas nos atributos mais importantes.\n",
        "\n",
        "Descartaremos os atributos a seguir, que foram mostrados como menos importantes por alguns dos algoritmos:\n",
        "- experience_level_coded\n",
        "- employment_type_code\n",
        "- remote_ratio\n"
      ]
    },
    {
      "cell_type": "code",
      "execution_count": 11,
      "metadata": {
        "colab": {
          "base_uri": "https://localhost:8080/"
        },
        "id": "GYBaKnkgNK7A",
        "outputId": "ba876451-1529-4b8a-9837-d54ac762f166"
      },
      "outputs": [
        {
          "output_type": "stream",
          "name": "stdout",
          "text": [
            "[[2023   86   65   65  100]\n",
            " [2023   78  228  228    5]\n",
            " [2023   78  228  228    5]\n",
            " ...\n",
            " [2020   48  228  228    5]\n",
            " [2020   18  228  228  100]\n",
            " [2021   46  103  103  100]]\n"
          ]
        }
      ],
      "source": [
        "#Separação em bases de treino e teste (holdout)\n",
        "array2 = df.values\n",
        "# Concatenando apenas as colunas com os atributos selecionados\n",
        "X2 = np.column_stack((array2[:,0],array2[:,3],array2[:,4],array2[:,6],array2[:,7])) # aqui estão sendo descartados os atributos teoricamente piores\n",
        "y2 = array2[:,8] # classe (target)\n",
        "print(X2)\n",
        "X_train2, X_test2, y_train2, y_test2 = train_test_split(X2, y2, test_size=0.20, random_state=7) # faz a divisão\n",
        "\n",
        "# Criando os folds para a validação cruzada\n",
        "num_particoes = 10 # número de folds da validação cruzada\n",
        "kfold = KFold(n_splits=num_particoes, shuffle=True, random_state=7) # faz o particionamento em 10 folds"
      ]
    },
    {
      "cell_type": "markdown",
      "metadata": {
        "id": "I1ciiJqXNP1Y"
      },
      "source": [
        "***10. Modelagem nova (aplicando a feature selection) ***"
      ]
    },
    {
      "cell_type": "code",
      "execution_count": 12,
      "metadata": {
        "colab": {
          "base_uri": "https://localhost:8080/",
          "height": 582
        },
        "id": "0WNP1zevNTm0",
        "outputId": "36ef5106-b603-4e62-89d8-05272da0cd50"
      },
      "outputs": [
        {
          "output_type": "stream",
          "name": "stdout",
          "text": [
            "LR: MSE 3123465058.88 (387247377.00) - RMSE 55887.97\n",
            "Ridge: MSE 3123464428.76 (387265732.97) - RMSE 55887.96\n",
            "Lasso: MSE 3123464979.46 (387251245.21) - RMSE 55887.97\n",
            "KNN: MSE 3104259693.94 (391861136.10) - RMSE 55715.88\n",
            "CART: MSE 2904858721.84 (344994540.70) - RMSE 53896.74\n",
            "SVM: MSE 4018711724.46 (465317281.71) - RMSE 63393.31\n"
          ]
        },
        {
          "output_type": "display_data",
          "data": {
            "text/plain": [
              "<Figure size 640x480 with 1 Axes>"
            ],
            "image/png": "[encoded data removed]"
          },
          "metadata": {}
        }
      ],
      "source": [
        "# Modelagem\n",
        "\n",
        "# Definindo uma seed global para esta célula de código\n",
        "np.random.seed(7)\n",
        "\n",
        "# Listas para armazenar os modelos, os resultados e os nomes dos modelos\n",
        "models = []\n",
        "results = []\n",
        "names = []\n",
        "\n",
        "# Preparando os modelos e adicionando-os em uma lista\n",
        "models.append(('LR', LinearRegression()))\n",
        "models.append(('Ridge', Ridge()))\n",
        "models.append(('Lasso', Lasso()))\n",
        "models.append(('KNN', KNeighborsRegressor()))\n",
        "models.append(('CART', DecisionTreeRegressor()))\n",
        "models.append(('SVM', SVR()))\n",
        "\n",
        "# Avaliando um modelo por vez\n",
        "for name, model in models:\n",
        "  cv_results = cross_val_score(model, X_train2, y_train2, cv=kfold, scoring='neg_mean_squared_error')\n",
        "  results.append(cv_results)\n",
        "  names.append(name)\n",
        "  # imprime MSE, desvio padrão do MSE e RMSE dos 10 resultados da validação cruzada\n",
        "  msg = \"%s: MSE %0.2f (%0.2f) - RMSE %0.2f\" % (name, abs(cv_results.mean()), cv_results.std(), np.sqrt(abs(cv_results.mean())))\n",
        "  print(msg)\n",
        "\n",
        "\n",
        "# Boxplot de comparação dos modelos\n",
        "fig = plt.figure()\n",
        "fig.suptitle('Comparação do MSE dos Modelos')\n",
        "ax = fig.add_subplot(111)\n",
        "plt.boxplot(results)\n",
        "ax.set_xticklabels(names)\n",
        "plt.show()"
      ]
    },
    {
      "cell_type": "markdown",
      "metadata": {
        "id": "2K8RN6UkNW5C"
      },
      "source": [
        ">**DESCOBERTA:** Nesta nova modelagem, após feature selection, o CART (Árvore de descisão) superou o KNN, demonstrando uma menor média no erro quadrático.\n",
        "\n"
      ]
    },
    {
      "cell_type": "markdown",
      "metadata": {
        "id": "lpHJNSa7VJHy"
      },
      "source": [
        "**11. Avaliação dos modelos no conjunto de treino:**\n",
        "- o CART foi o modelo que obteve o melhor desempenho após executada a redução de dimensionalidade, superando o KNN.\n",
        "- O SVM continua sendo o pior modelo mesmo após a redução de dimensionalidade."
      ]
    },
    {
      "cell_type": "markdown",
      "metadata": {
        "id": "qQsUsS-EVKf9"
      },
      "source": [
        "**12. Avaliação do modelo vencedor no conjunto de testes:** Vamos realizar agora o treino do modelo com o conjunto de treino e submeter ele a predições no novo conjunto de teste, para fins de comparação."
      ]
    },
    {
      "cell_type": "code",
      "execution_count": 13,
      "metadata": {
        "colab": {
          "base_uri": "https://localhost:8080/"
        },
        "id": "YuOJvu6WNY35",
        "outputId": "353b4596-1bce-4973-b1f4-106f1c4d6fb1"
      },
      "outputs": [
        {
          "output_type": "stream",
          "name": "stdout",
          "text": [
            "MSE 2817821970.17\n",
            "RMSE 53083.16\n"
          ]
        }
      ],
      "source": [
        "# Criando um modelo com todo o conjunto de treino\n",
        "model = DecisionTreeRegressor()\n",
        "model.fit(X_train2, y_train2)\n",
        "\n",
        "# Fazendo as predições com o conjunto de teste\n",
        "predictions = model.predict(X_test2)\n",
        "\n",
        "# Estimando o MSE e o RMSE no conjunto de teste\n",
        "mse = mean_squared_error(y_test2, predictions)\n",
        "print(\"MSE %0.2f\" % mse)\n",
        "print(\"RMSE %0.2f\" % np.sqrt(abs(mse)))"
      ]
    },
    {
      "cell_type": "markdown",
      "metadata": {
        "id": "ps7xofs7WrtO"
      },
      "source": [
        ">**PIORA NO DESEMPENHO:** O resultado global na avaliação da base de testes completa piorou após remover os atributos selecionados por feature selection, pois o erro quadrático médio que era de 52324 (sem feature selection) e subiu para 53083 (após feature selection). A avaliação que fazemos é que o processo de feature selection da forma realizada não melhorou o modelo, e devem ser realizadas novas tentativas com remoção de outros arranjos de atributos. Em último caso, deve ser usada a integralidade dos atributos, de forma a obter o melhor desempenho."
      ]
    },
    {
      "cell_type": "markdown",
      "metadata": {
        "id": "PcS63rhYdNCF"
      },
      "source": [
        "**13. Redução da dimensionalidade (corrigindo o feature selection)**\n",
        "\n",
        "Para essa correção, vamos considerar 2 fatores:\n",
        "- A saída dos algoritmos \"Extra Trees\" e \"SelectKBest\" considera que dos 3 atributos menos importantes, o \"Experience_level_coded\" é o mais importante.\n",
        "- Essa saída também corresponde ao feeling pessoal ao analisar os dados. O nível de experiência do empregado sempre vai estar em algum grau relacionado ao salário recebido.\n",
        "\n",
        "Então consideraremos desta vez a remoção de apenas 2 atributos:\n",
        "- employment_type_code\n",
        "- remote_ratio\n"
      ]
    },
    {
      "cell_type": "code",
      "execution_count": 14,
      "metadata": {
        "colab": {
          "base_uri": "https://localhost:8080/"
        },
        "id": "djNcaScWe9m4",
        "outputId": "47b36660-b664-4e9d-a4f7-41b595c0d2d1"
      },
      "outputs": [
        {
          "output_type": "stream",
          "name": "stdout",
          "text": [
            "[[2023    3   86   65   65  100]\n",
            " [2023    2   78  228  228    5]\n",
            " [2023    2   78  228  228    5]\n",
            " ...\n",
            " [2020    1   48  228  228    5]\n",
            " [2020    1   18  228  228  100]\n",
            " [2021    3   46  103  103  100]]\n"
          ]
        }
      ],
      "source": [
        "#Separação em bases de treino e teste (holdout)\n",
        "array2 = df.values\n",
        "# Concatenando apenas as colunas com os atributos selecionados\n",
        "X2 = np.column_stack((array2[:,0],array2[:,1],array2[:,3],array2[:,4],array2[:,6],array2[:,7])) # aqui estão sendo descartados os atributos teoricamente piores\n",
        "y2 = array2[:,8] # classe (target)\n",
        "print(X2)\n",
        "X_train2, X_test2, y_train2, y_test2 = train_test_split(X2, y2, test_size=0.20, random_state=7) # faz a divisão\n",
        "\n",
        "# Criando os folds para a validação cruzada\n",
        "num_particoes = 10 # número de folds da validação cruzada\n",
        "kfold = KFold(n_splits=num_particoes, shuffle=True, random_state=7) # faz o particionamento em 10 folds"
      ]
    },
    {
      "cell_type": "markdown",
      "metadata": {
        "id": "KDODi5vkfXzV"
      },
      "source": [
        "**14. Nova modelagem (Corrigindo o feature selection)**"
      ]
    },
    {
      "cell_type": "code",
      "execution_count": 15,
      "metadata": {
        "colab": {
          "base_uri": "https://localhost:8080/",
          "height": 582
        },
        "id": "fSvvQcSbfWbQ",
        "outputId": "d5461a43-c78a-495a-bbd7-e55fef2e32d8"
      },
      "outputs": [
        {
          "output_type": "stream",
          "name": "stdout",
          "text": [
            "LR: MSE 2984847659.78 (395222327.46) - RMSE 54633.76\n",
            "Ridge: MSE 2984845028.58 (395209817.49) - RMSE 54633.74\n",
            "Lasso: MSE 2984847616.38 (395221293.23) - RMSE 54633.76\n",
            "KNN: MSE 3074565589.09 (409560009.02) - RMSE 55448.77\n",
            "CART: MSE 2880621040.64 (442313587.80) - RMSE 53671.42\n",
            "SVM: MSE 4018727738.65 (465317625.99) - RMSE 63393.44\n"
          ]
        },
        {
          "output_type": "display_data",
          "data": {
            "text/plain": [
              "<Figure size 640x480 with 1 Axes>"
            ],
            "image/png": "[encoded data removed]"
          },
          "metadata": {}
        }
      ],
      "source": [
        "# Modelagem\n",
        "\n",
        "# Definindo uma seed global para esta célula de código\n",
        "np.random.seed(7)\n",
        "\n",
        "# Listas para armazenar os modelos, os resultados e os nomes dos modelos\n",
        "models = []\n",
        "results = []\n",
        "names = []\n",
        "\n",
        "# Preparando os modelos e adicionando-os em uma lista\n",
        "models.append(('LR', LinearRegression()))\n",
        "models.append(('Ridge', Ridge()))\n",
        "models.append(('Lasso', Lasso()))\n",
        "models.append(('KNN', KNeighborsRegressor()))\n",
        "models.append(('CART', DecisionTreeRegressor()))\n",
        "models.append(('SVM', SVR()))\n",
        "\n",
        "# Avaliando um modelo por vez\n",
        "for name, model in models:\n",
        "  cv_results = cross_val_score(model, X_train2, y_train2, cv=kfold, scoring='neg_mean_squared_error')\n",
        "  results.append(cv_results)\n",
        "  names.append(name)\n",
        "  # imprime MSE, desvio padrão do MSE e RMSE dos 10 resultados da validação cruzada\n",
        "  msg = \"%s: MSE %0.2f (%0.2f) - RMSE %0.2f\" % (name, abs(cv_results.mean()), cv_results.std(), np.sqrt(abs(cv_results.mean())))\n",
        "  print(msg)\n",
        "\n",
        "\n",
        "# Boxplot de comparação dos modelos\n",
        "fig = plt.figure()\n",
        "fig.suptitle('Comparação do MSE dos Modelos')\n",
        "ax = fig.add_subplot(111)\n",
        "plt.boxplot(results)\n",
        "ax.set_xticklabels(names)\n",
        "plt.show()"
      ]
    },
    {
      "cell_type": "markdown",
      "metadata": {
        "id": "rBFzHm5Pf-xV"
      },
      "source": [
        ">**DESCOBERTA:** Nesta nova modelagem, após feature selection corrigida, o CART (Árvore de descisão) continuou com uma menor média no erro quadrático."
      ]
    },
    {
      "cell_type": "markdown",
      "metadata": {
        "id": "XIuNBK3nhD_O"
      },
      "source": [
        "**15. Avaliação do modelo vencedor no conjunto de testes:** Vamos realizar agora o treino do modelo com o conjunto de treino e submeter ele a predições no novo conjunto de teste, para fins de comparação."
      ]
    },
    {
      "cell_type": "code",
      "execution_count": 16,
      "metadata": {
        "colab": {
          "base_uri": "https://localhost:8080/"
        },
        "id": "WNnsm74yf_OT",
        "outputId": "0b16712b-2937-4a65-f804-8911d64172f8"
      },
      "outputs": [
        {
          "output_type": "stream",
          "name": "stdout",
          "text": [
            "MSE 2682904021.13\n",
            "RMSE 51796.76\n"
          ]
        }
      ],
      "source": [
        "# Criando um modelo com todo o conjunto de treino\n",
        "model = DecisionTreeRegressor()\n",
        "model.fit(X_train2, y_train2)\n",
        "\n",
        "# Fazendo as predições com o conjunto de teste\n",
        "predictions = model.predict(X_test2)\n",
        "\n",
        "# Estimando o MSE e o RMSE no conjunto de teste\n",
        "mse = mean_squared_error(y_test2, predictions)\n",
        "print(\"MSE %0.2f\" % mse)\n",
        "print(\"RMSE %0.2f\" % np.sqrt(abs(mse)))"
      ]
    },
    {
      "cell_type": "markdown",
      "metadata": {
        "id": "Lzot5GiChU7E"
      },
      "source": [
        ">**MELHORA NO DESEMPENHO:** O resultado global na avaliação da base de testes completa piorou após remover os atributos selecionados por feature selection, pois o erro quadrático médio que era de 52324 (sem feature selection), passou a 53083 (após feature selection), e após esta correção do feature selection, o **erro melhorou**, caindo para 51796 . Essa modelagem será considerada como a final, com redução de dimensionalidade dos 2 piores atributos."
      ]
    },
    {
      "cell_type": "markdown",
      "metadata": {
        "id": "8WXLfMHPNcDI"
      },
      "source": [
        "**16. TESTANDO A PREDIÇÃO**\n",
        "\n",
        "Vamos vistoriar uma amostragem das nossas predições, usando entradas da base de teste e notando o nível de aproximação das previsões de salário dos salários reais."
      ]
    },
    {
      "cell_type": "code",
      "execution_count": 17,
      "metadata": {
        "colab": {
          "base_uri": "https://localhost:8080/"
        },
        "id": "M7RFpsFXNcwA",
        "outputId": "183978a1-4e0f-4b92-b3b7-0effda528c57"
      },
      "outputs": [
        {
          "output_type": "stream",
          "name": "stdout",
          "text": [
            "Atributos:  [2022    3   34  228  228   25] | Salário:  135000 | Predição do modelo:  149992.0\n",
            "Atributos:  [2021    1   71  103  103   25] | Salário:  12171 | Predição do modelo:  20000.0\n",
            "Atributos:  [2023    3   34  228  228   25] | Salário:  185000 | Predição do modelo:  160141.0\n",
            "Atributos:  [2022    3   26  228  228   25] | Salário:  150000 | Predição do modelo:  116546.0\n",
            "Atributos:  [2022    3   34  228  228   25] | Salário:  185900 | Predição do modelo:  149992.0\n",
            "Atributos:  [2022    1   13   54   54  100] | Salário:  60938 | Predição do modelo:  19073.0\n",
            "Atributos:  [2022    1   78  181  181  100] | Salário:  21013 | Predição do modelo:  22809.0\n",
            "Atributos:  [2023    3   34  228  228   25] | Salário:  135000 | Predição do modelo:  160141.0\n",
            "Atributos:  [2023    3   34  228  228   25] | Salário:  252000 | Predição do modelo:  160141.0\n",
            "Atributos:  [2023    3   34  228  228   25] | Salário:  165000 | Predição do modelo:  160141.0\n",
            "Atributos:  [2023    3   48  228  228   25] | Salário:  183500 | Predição do modelo:  171925.0\n",
            "Atributos:  [2022    3   48  228  228   25] | Salário:  141525 | Predição do modelo:  159306.0\n",
            "Atributos:  [2022    3   34  228  228   25] | Salário:  102000 | Predição do modelo:  149992.0\n",
            "Atributos:  [2023    3   90  228  228   25] | Salário:  175000 | Predição do modelo:  179296.0\n",
            "Atributos:  [2023    3   48  228  228   25] | Salário:  172500 | Predição do modelo:  171925.0\n",
            "Atributos:  [2023    2   90  228  228   25] | Salário:  230000 | Predição do modelo:  140000.0\n",
            "Atributos:  [2020    2   48   74   74    5] | Salário:  76958 | Predição do modelo:  112872.0\n",
            "Atributos:  [2023    3   34  228  228   25] | Salário:  147100 | Predição do modelo:  160141.0\n",
            "Atributos:  [2023    1   34  228  228   25] | Salário:  310000 | Predição do modelo:  156846.0\n"
          ]
        }
      ],
      "source": [
        "numbers = range(1,20)\n",
        "for n in numbers:\n",
        "  print('Atributos: ',X_test2[n],'| Salário: ', y_test2[n],'| Predição do modelo: ', round(predictions[n],0))\n"
      ]
    },
    {
      "cell_type": "code",
      "execution_count": 18,
      "metadata": {
        "colab": {
          "base_uri": "https://localhost:8080/",
          "height": 447
        },
        "id": "kQ8vZrvRlUa0",
        "outputId": "930f59ad-55bb-4a6e-ffc4-592027b169a2"
      },
      "outputs": [
        {
          "output_type": "execute_result",
          "data": {
            "text/plain": [
              "<matplotlib.collections.PathCollection at 0x7d545bf42140>"
            ]
          },
          "metadata": {},
          "execution_count": 18
        },
        {
          "output_type": "display_data",
          "data": {
            "text/plain": [
              "<Figure size 640x480 with 1 Axes>"
            ],
            "image/png": "[encoded data removed]"
          },
          "metadata": {}
        }
      ],
      "source": [
        "ax = plt.gca()\n",
        "ax.set_aspect('equal', adjustable='box')\n",
        "plt.scatter(y_test2, predictions)"
      ]
    },
    {
      "cell_type": "markdown",
      "metadata": {
        "id": "BA96G2CWZSeA"
      },
      "source": [
        ">**ANÁLISE:** Quanto mais a plotagem acima se aproxima de uma reta, mais preciso está o modelo.\n"
      ]
    },
    {
      "cell_type": "markdown",
      "metadata": {
        "id": "2bz8LvuSpSfu"
      },
      "source": [
        "**17. Otimização de hiperparâmetros**"
      ]
    },
    {
      "cell_type": "code",
      "execution_count": 19,
      "metadata": {
        "id": "RApOU2plpW8G"
      },
      "outputs": [],
      "source": [
        "# Imports de Bibliotecas adicionais\n",
        "from sklearn.model_selection import GridSearchCV\n",
        "from sklearn.pipeline import Pipeline\n",
        "from sklearn.preprocessing import StandardScaler\n",
        "from sklearn.preprocessing import MinMaxScaler\n"
      ]
    },
    {
      "cell_type": "markdown",
      "metadata": {
        "id": "xGpaWULRpa8m"
      },
      "source": [
        "Usaremos os parâmetros a seguir para o algoritmo de árvore de decisão:\n",
        "*   'max_depth': [5,10,20,50]\n",
        "*   'max_leaf_nodes': [1,5,10,20,30,40,50,80,100,500]\n",
        "*   'min_samples_leaf': [1,5,10,20,40]\n",
        "\n",
        "\n",
        "\n",
        "\n",
        "\n"
      ]
    },
    {
      "cell_type": "code",
      "execution_count": 20,
      "metadata": {
        "colab": {
          "base_uri": "https://localhost:8080/"
        },
        "id": "zm8jrhB-pbqX",
        "outputId": "4e65f13f-f47d-4214-bd3a-f66fbcb11ddc"
      },
      "outputs": [
        {
          "output_type": "stream",
          "name": "stdout",
          "text": [
            "Sem tratamento de missings: CART-orig - Melhor: -2601685450.219409 usando {'CART__max_depth': 10, 'CART__max_leaf_nodes': 80, 'CART__min_samples_leaf': 10}\n",
            "Sem tratamento de missings: CART-padr - Melhor: -2601685450.219409 usando {'CART__max_depth': 10, 'CART__max_leaf_nodes': 80, 'CART__min_samples_leaf': 10}\n",
            "Sem tratamento de missings: CART-norm - Melhor: -2601648629.353733 usando {'CART__max_depth': 10, 'CART__max_leaf_nodes': 80, 'CART__min_samples_leaf': 10}\n"
          ]
        }
      ],
      "source": [
        "# Tuning do DecisionTree\n",
        "\n",
        "np.random.seed(7) # definindo uma semente global para este bloco\n",
        "\n",
        "pipelines = []\n",
        "\n",
        "# Definindo os componentes do pipeline\n",
        "cart = ('CART', DecisionTreeRegressor())\n",
        "standard_scaler = ('StandardScaler', StandardScaler())\n",
        "min_max_scaler = ('MinMaxScaler', MinMaxScaler())\n",
        "\n",
        "pipelines.append(('CART-orig', Pipeline(steps=[cart])))\n",
        "pipelines.append(('CART-padr', Pipeline(steps=[standard_scaler, cart])))\n",
        "pipelines.append(('CART-norm', Pipeline(steps=[min_max_scaler, cart])))\n",
        "\n",
        "param_grid = {\n",
        "    'CART__max_depth': [5,10,20,50],\n",
        "    'CART__max_leaf_nodes': [1,5,10,20,30,40,50,80,100,500],\n",
        "    'CART__min_samples_leaf': [1,5,10,20,40]\n",
        "}\n",
        "\n",
        "# Prepara e executa o GridSearchCV\n",
        "for name, model in pipelines:\n",
        "    grid = GridSearchCV(estimator=model, param_grid=param_grid, scoring='neg_mean_squared_error', cv=kfold)\n",
        "    grid.fit(X_train2, y_train2)\n",
        "    # imprime a melhor configuração\n",
        "    print(\"Sem tratamento de missings: %s - Melhor: %f usando %s\" % (name, grid.best_score_, grid.best_params_))"
      ]
    },
    {
      "cell_type": "markdown",
      "metadata": {
        "id": "IhN8vV4wqcqS"
      },
      "source": [
        "> ***DESCOBERTA:*** Temos agora os melhores valores para os parâmetros testados (max_depth=10, max_leaf_nodes=40, min_samples_leaf=20), que devem incrementar nossos resultados de predição."
      ]
    },
    {
      "cell_type": "markdown",
      "source": [
        ">>**Método comparativo:**\n",
        "Iremos criar 6 modelos com os nomes e objetivos a seguir:\n",
        "- model_hp         -> Aplicação de hiperparametros somente\n",
        "- model_hp_fs      -> Aplicação de hiperparametros e feature selection\n",
        "- model_hp_padr    -> Aplicação de hiperparametros e padronizacao\n",
        "- model_hp_padr_fs -> Aplicação de hiperparametros, padronização e feature selection.\n",
        "- model_hp_norm    -> Aplicação de hiperparametros e normalização\n",
        "- model_hp_norm_fs -> Aplicação de hiperparametros, normalização e feature selection.\n",
        "\n",
        ">>A partir deste comparativo, saberemos a melhor opção de configuração do modelo, através da medição do erro médio quadrático de todas as opções.\n"
      ],
      "metadata": {
        "id": "LU464CbiLWDR"
      }
    },
    {
      "cell_type": "code",
      "execution_count": 21,
      "metadata": {
        "colab": {
          "base_uri": "https://localhost:8080/"
        },
        "id": "YIr31Tvwl9g8",
        "outputId": "4d028d76-cc9c-4759-b037-9907316659d0"
      },
      "outputs": [
        {
          "output_type": "stream",
          "name": "stdout",
          "text": [
            "Original sem F.S.    | MSE 2401737199.61| RMSE 49007.52\n"
          ]
        }
      ],
      "source": [
        "# Criando um modelo configurado com os HIPER PARAMETROS e sem feature selection\n",
        "model_hp = DecisionTreeRegressor(max_depth=10, max_leaf_nodes=40, min_samples_leaf=20) # Aplicação dos parametros eleitos para otimização de hiperparametros\n",
        "model_hp.fit(X_train, y_train)\n",
        "\n",
        "# Fazendo as predições com o conjunto de teste\n",
        "tuned_predictions = model_hp.predict(X_test)\n",
        "\n",
        "# Estimando o MSE e o RMSE, após otimização de hiperparametros, no conjunto de teste\n",
        "mse = mean_squared_error(y_test, tuned_predictions)\n",
        "print(\"Original sem F.S.    | \"+\"MSE %0.2f\" % mse + \"| RMSE %0.2f\" % np.sqrt(abs(mse)))\n",
        "\n",
        "\n"
      ]
    },
    {
      "cell_type": "code",
      "execution_count": 22,
      "metadata": {
        "colab": {
          "base_uri": "https://localhost:8080/"
        },
        "id": "l8TpMcMBXOWG",
        "outputId": "0443f469-9a3b-4abd-b5fa-4ce0255f85db"
      },
      "outputs": [
        {
          "output_type": "stream",
          "name": "stdout",
          "text": [
            "Original com F.S.   | MSE 2400336482.44| RMSE 48993.23\n"
          ]
        }
      ],
      "source": [
        "# Criando um modelo configurado com os HIPER PARAMETROS e com feature selection\n",
        "model_hp_fs = DecisionTreeRegressor(max_depth=10, max_leaf_nodes=40, min_samples_leaf=20) # Aplicação dos parametros eleitos para otimização de hiperparametros\n",
        "model_hp_fs.fit(X_train2, y_train2)\n",
        "\n",
        "# Fazendo as predições com o conjunto de teste\n",
        "tuned_predictions = model_hp_fs.predict(X_test2)\n",
        "\n",
        "# Estimando o MSE e o RMSE, após otimização de hiperparametros, no conjunto de teste\n",
        "mse = mean_squared_error(y_test2, tuned_predictions)\n",
        "print(\"Original com F.S.   | \"+\"MSE %0.2f\" % mse + \"| RMSE %0.2f\" % np.sqrt(abs(mse)))\n",
        "\n",
        "\n"
      ]
    },
    {
      "cell_type": "code",
      "execution_count": 23,
      "metadata": {
        "colab": {
          "base_uri": "https://localhost:8080/"
        },
        "id": "B0fJd6tg7XVl",
        "outputId": "195c0297-8902-4d47-c3d4-ac594c8952a2"
      },
      "outputs": [
        {
          "output_type": "stream",
          "name": "stdout",
          "text": [
            "Padronizado sem F.S. | MSE 8701773544.25| RMSE 93283.30\n"
          ]
        }
      ],
      "source": [
        "#------\n",
        "# Criando um modelo configurado com os HIPER PARAMETROS e PADRONIZADO  e sem feature selection\n",
        "scaler = StandardScaler().fit(X_train) # ajuste do scaler com o conjunto de treino\n",
        "X_train_r = scaler.transform(X_train) # aplicação da padronização no conjunto de treino\n",
        "\n",
        "model_hp_padr = DecisionTreeRegressor(max_depth=10, max_leaf_nodes=40, min_samples_leaf=20) # Aplicação dos parametros eleitos para otimização de hiperparametros\n",
        "model_hp_padr.fit(X_train_r, y_train)\n",
        "\n",
        "# Fazendo as predições com o conjunto de teste padronizado\n",
        "scaler = StandardScaler().fit(X_test)\n",
        "X_test_r = scaler.transform(X_test)\n",
        "tuned_predictions = model_hp_padr.predict(X_test_r)\n",
        "\n",
        "# Estimando o MSE e o RMSE, após otimização de hiperparametros, no conjunto de teste\n",
        "mse = mean_squared_error(y_test, tuned_predictions)\n",
        "print(\"Padronizado sem F.S. | \"+\"MSE %0.2f\" % mse + \"| RMSE %0.2f\" % np.sqrt(abs(mse)))\n"
      ]
    },
    {
      "cell_type": "code",
      "execution_count": 24,
      "metadata": {
        "colab": {
          "base_uri": "https://localhost:8080/"
        },
        "id": "odOa9fkHYF7w",
        "outputId": "c38054b1-53f2-4cd5-c5d0-02e6810ac7a3"
      },
      "outputs": [
        {
          "output_type": "stream",
          "name": "stdout",
          "text": [
            "Padronizado com F.S. | MSE 8711894804.36| RMSE 93337.53\n"
          ]
        }
      ],
      "source": [
        "#------\n",
        "# Criando um modelo configurado com os HIPER PARAMETROS e PADRONIZADO  e com feature selection\n",
        "scaler = StandardScaler().fit(X_train2) # ajuste do scaler com o conjunto de treino\n",
        "X_train2_r = scaler.transform(X_train2) # aplicação da padronização no conjunto de treino\n",
        "\n",
        "model_hp_padr_fs = DecisionTreeRegressor(max_depth=10, max_leaf_nodes=40, min_samples_leaf=20) # Aplicação dos parametros eleitos para otimização de hiperparametros\n",
        "model_hp_padr_fs.fit(X_train2_r, y_train2)\n",
        "\n",
        "# Fazendo as predições com o conjunto de teste padronizado\n",
        "scaler = StandardScaler().fit(X_test2)\n",
        "X_test2_r = scaler.transform(X_test2)\n",
        "tuned_predictions = model_hp_padr_fs.predict(X_test2_r)\n",
        "\n",
        "# Estimando o MSE e o RMSE, após otimização de hiperparametros, no conjunto de teste\n",
        "mse = mean_squared_error(y_test2, tuned_predictions)\n",
        "print(\"Padronizado com F.S. | \"+\"MSE %0.2f\" % mse + \"| RMSE %0.2f\" % np.sqrt(abs(mse)))"
      ]
    },
    {
      "cell_type": "code",
      "execution_count": 25,
      "metadata": {
        "colab": {
          "base_uri": "https://localhost:8080/"
        },
        "id": "U-lKOBpw7XLJ",
        "outputId": "74a9209f-297d-4635-e1b0-6bcd02342753"
      },
      "outputs": [
        {
          "output_type": "stream",
          "name": "stdout",
          "text": [
            "Normalizado sem F.S. | MSE 2456716667.33| RMSE 49565.28\n"
          ]
        }
      ],
      "source": [
        "#------\n",
        "# Criando um modelo configurado com os HIPER PARAMETROS e NORMALIZADO e sem feature selection\n",
        "scaler = MinMaxScaler().fit(X_train) # ajuste do scaler com o conjunto de treino\n",
        "X_train_r = scaler.transform(X_train) # aplicação da normalização no conjunto de treino\n",
        "\n",
        "model_hp_norm = DecisionTreeRegressor(max_depth=10, max_leaf_nodes=40, min_samples_leaf=20) # Aplicação dos parametros eleitos para otimização de hiperparametros\n",
        "model_hp_norm.fit(X_train_r, y_train)\n",
        "\n",
        "# Fazendo as predições com o conjunto de teste normalizado\n",
        "scaler = MinMaxScaler().fit(X_test)\n",
        "X_test_r = scaler.transform(X_test)\n",
        "tuned_predictions = model_hp_norm.predict(X_test_r)\n",
        "\n",
        "# Estimando o MSE e o RMSE, após otimização de hiperparametros, no conjunto de teste\n",
        "mse = mean_squared_error(y_test, tuned_predictions)\n",
        "print(\"Normalizado sem F.S. | \"+\"MSE %0.2f\" % mse + \"| RMSE %0.2f\" % np.sqrt(abs(mse)))"
      ]
    },
    {
      "cell_type": "code",
      "execution_count": 26,
      "metadata": {
        "colab": {
          "base_uri": "https://localhost:8080/"
        },
        "id": "bgVJJ920YYCD",
        "outputId": "67ffb25e-da6e-41ca-9ccc-4d46f2496eec"
      },
      "outputs": [
        {
          "output_type": "stream",
          "name": "stdout",
          "text": [
            "Normalizado com F.S. | MSE 2458167113.45| RMSE 49579.91\n"
          ]
        }
      ],
      "source": [
        "#------\n",
        "# Criando um modelo configurado com os HIPER PARAMETROS e NORMALIZADO e com feature selection\n",
        "scaler = MinMaxScaler().fit(X_train2) # ajuste do scaler com o conjunto de treino\n",
        "X_train2_r = scaler.transform(X_train2) # aplicação da normalização no conjunto de treino\n",
        "\n",
        "model_hp_norm_fs = DecisionTreeRegressor(max_depth=10, max_leaf_nodes=40, min_samples_leaf=20) # Aplicação dos parametros eleitos para otimização de hiperparametros\n",
        "model_hp_norm_fs.fit(X_train2_r, y_train2)\n",
        "\n",
        "# Fazendo as predições com o conjunto de teste normalizado\n",
        "scaler = MinMaxScaler().fit(X_test2)\n",
        "X_test2_r = scaler.transform(X_test2)\n",
        "tuned_predictions = model_hp_norm_fs.predict(X_test2_r)\n",
        "\n",
        "# Estimando o MSE e o RMSE, após otimização de hiperparametros, no conjunto de teste\n",
        "mse = mean_squared_error(y_test2, tuned_predictions)\n",
        "print(\"Normalizado com F.S. | \"+\"MSE %0.2f\" % mse + \"| RMSE %0.2f\" % np.sqrt(abs(mse)))"
      ]
    },
    {
      "cell_type": "markdown",
      "metadata": {
        "id": "2qtImgKu6Msf"
      },
      "source": [
        ">**CONCLUSÕES APÓS OTIMIZAÇÃO DE HIPER PARAMETROS:**\n",
        "- O uso de HIPER PARAMETROS melhorou o modelo. (Vamos usar) ✅\n",
        "- O uso de Feature Selection melhorou um pouco o modelo. (Vamos usar) ✅\n",
        "- O uso de normalização piorou um pouco o modelo. (Não vamos usar) 🚫\n",
        "- O uso de padronização piorou muito o modelo. (Não vamos usar) 🚫\n",
        "\n",
        ">**GANHO SIGNIFICATIVO:**\n",
        "O RMSE caiu de 53083.16 para 48993.23 após otimização de HIPER PARAMETROS e FEATURE SELECTION. ✅"
      ]
    },
    {
      "cell_type": "code",
      "execution_count": 27,
      "metadata": {
        "colab": {
          "base_uri": "https://localhost:8080/",
          "height": 287
        },
        "id": "eivsB7vCpkEG",
        "outputId": "768c4c9d-84d8-4c7d-a8ff-a9adc832eb90"
      },
      "outputs": [
        {
          "output_type": "execute_result",
          "data": {
            "text/plain": [
              "<matplotlib.collections.PathCollection at 0x7d545beb29b0>"
            ]
          },
          "metadata": {},
          "execution_count": 27
        },
        {
          "output_type": "display_data",
          "data": {
            "text/plain": [
              "<Figure size 640x480 with 1 Axes>"
            ],
            "image/png": "[encoded data removed]"
          },
          "metadata": {}
        }
      ],
      "source": [
        "# Plotagem dos resultados após otimização de hiperparametros\n",
        "tuned_predictions = model_hp_fs.predict(X_test2)\n",
        "ax = plt.gca()\n",
        "ax.set_aspect('equal', adjustable='box')\n",
        "plt.scatter(y_test2, tuned_predictions)"
      ]
    },
    {
      "cell_type": "markdown",
      "metadata": {
        "id": "SCARlGGvZKTP"
      },
      "source": [
        "**18. Análise gráfica:** Quanto mais a plotagem acima se aproxima de uma reta, mais preciso está o modelo, e quanto mais ela se difunde, menos preciso o modelo está (maior é o RMSE)."
      ]
    },
    {
      "cell_type": "markdown",
      "metadata": {
        "id": "DRRhIclV9UVQ"
      },
      "source": [
        "\n",
        "\n",
        "**19. Persistindo o modelo**\n",
        "\n"
      ]
    },
    {
      "cell_type": "code",
      "execution_count": 28,
      "metadata": {
        "id": "thRuGqd29WPn"
      },
      "outputs": [],
      "source": [
        "# Salvar modelo para o disco\n",
        "import pickle\n",
        "filename = 'finalized_model.sav'\n",
        "pickle.dump(model_hp_fs, open(filename, 'wb'))\n"
      ]
    },
    {
      "cell_type": "markdown",
      "metadata": {
        "id": "w6SHJxAL9g_D"
      },
      "source": [
        "**20. Recuperando o modelo**\n"
      ]
    },
    {
      "cell_type": "code",
      "execution_count": 29,
      "metadata": {
        "id": "yun5sh3QAAqH",
        "colab": {
          "base_uri": "https://localhost:8080/"
        },
        "outputId": "00594a32-4137-47dd-d5ff-a39a633ad169"
      },
      "outputs": [
        {
          "output_type": "stream",
          "name": "stdout",
          "text": [
            "Original sem F.S.    | MSE 2400336482.44| RMSE 48993.23\n"
          ]
        }
      ],
      "source": [
        "# Carregando o modelo e testando o RMSE novamente\n",
        "loaded_model = pickle.load(open(filename, 'rb'))\n",
        "\n",
        "loaded_model.fit(X_train2, y_train2)\n",
        "\n",
        "# Fazendo as predições com o conjunto de teste\n",
        "tuned_predictions = loaded_model.predict(X_test2)\n",
        "\n",
        "# Estimando o MSE e o RMSE, após otimização de hiperparametros, no conjunto de teste\n",
        "mse = mean_squared_error(y_test2, tuned_predictions)\n",
        "print(\"Original sem F.S.    | \"+\"MSE %0.2f\" % mse + \"| RMSE %0.2f\" % np.sqrt(abs(mse)))"
      ]
    },
    {
      "cell_type": "markdown",
      "source": [
        "**21. Conclusões finais** ✅\n",
        "\n",
        "\n",
        "\n",
        "O modelo de regressão para **predição de salários de profissionais de ciência de dados** demonstrou certa eficácia na análise dos dados de mercado, e sugestão de salários de novos profissionais contratados. Essa eficácia conseguiu ser aumentada graças a aplicações de algoritmos de feature selection, que nos apontaram quais campos não estavam ajudando na previsão do modelo. Também utilizamos o processo de otimização de Hiper Parâmetros para achar quais os melhores parâmetros para uso no modelo em questão. Esse modelo poderia ser aperfeiçoado através de outros algoritmos e técnicas estatísticas de forma a diminuir ainda mais o **erro quadrático médio** visto, mas já se demonstra como uma opção interessante para predizer um salário justo a ser pago para um novo profissional ingressante no mercado."
      ],
      "metadata": {
        "id": "C8949rpTmSre"
      }
    }
  ],
  "metadata": {
    "colab": {
      "provenance": [],
      "include_colab_link": true
    },
    "kernelspec": {
      "display_name": "Python 3",
      "name": "python3"
    }
  },
  "nbformat": 4,
  "nbformat_minor": 0
}
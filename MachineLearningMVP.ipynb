{
  "nbformat": 4,
  "nbformat_minor": 0,
  "metadata": {
    "colab": {
      "provenance": [],
      "include_colab_link": true
    },
    "kernelspec": {
      "name": "python3",
      "display_name": "Python 3"
    }
  },
  "cells": [
    {
      "cell_type": "markdown",
      "metadata": {
        "id": "view-in-github",
        "colab_type": "text"
      },
      "source": [
        "<a href=\"https://colab.research.google.com/github/alanrolemberg/mvp/blob/main/MachineLearningMVP.ipynb\" target=\"_parent\"><img src=\"https://colab.research.google.com/assets/colab-badge.svg\" alt=\"Open In Colab\"/></a>"
      ]
    },
    {
      "cell_type": "markdown",
      "source": [
        "**MVP - Machine Learning**\n",
        "\n",
        "**Aluno:** ALAN ROLEMBERG ELIODORIO"
      ],
      "metadata": {
        "id": "jIDdjG25-caO"
      }
    },
    {
      "cell_type": "markdown",
      "metadata": {
        "id": "xjOpLDcTBbbM"
      },
      "source": [
        "**Contexto**\n",
        "\n",
        "Temos um banco de dados com o histórico de **salários pagos** a profissionais de ciência de dados em diversas empresas. Além dos salários, o dataset nos traz informações características de cada vaga, como local de residência do empregado, local da empresa, taxa de trabalho remoto, entre outros dados interessantes. Com base nestes dados, tentaremos **predizer um valor de salário** para novos empregados, ou seja, é um problema de regressão. Este modelo pode ser usado para que empresas ofereçam salários justos (baseados em valor de mercado) para seus novos empregados.\n",
        "\n",
        "**Estrutura**\n",
        "\n",
        "O notebook está dividido em:\n",
        "\n",
        "-  Importação de bibliotecas\n",
        "\n",
        "-  Carga do dataset original\n",
        "\n",
        "-  Pré-processamento de dados\n",
        "\n",
        "-  Carga do dataset pré-processado\n",
        "\n",
        "-  Divisão entre treinamento e teste\n",
        "\n",
        "-  Modelagem\n",
        "\n",
        "-  Avaliação dos modelos no conjunto de treino\n",
        "\n",
        "-  Avaliação do modelo vencedor no conjunto de teste\n",
        "\n",
        "-  Processo de feature selection\n",
        "\n",
        "-  Redução da dimensionalidade (aplicando o feature selection)\n",
        "\n",
        "-  Nova modelagem (aplicando o feature selection)\n",
        "\n",
        "-  Avaliação dos modelos no conjunto de treino (aplicando o feature selection)\n",
        "\n",
        "-  Avaliação do modelo vencedor no conjunto de teste (aplicando o feature selection)\n",
        "\n",
        "-  Uso do algoritmo de melhor avaliação\n",
        "\n",
        "**Dataset**\n",
        "\n",
        "O dataset ds_salaries foi baixada do Kaggle, através do link [ds_salaries](https://www.google.com/url?sa=t&rct=j&q=&esrc=s&source=web&cd=&cad=rja&uact=8&ved=2ahUKEwj9lvjiu9D_AhU_CLkGHcniBhAQFnoECBQQAQ&url=https%3A%2F%2Fwww.kaggle.com%2Fcode%2Fifeanyies%2Fds-salaries&usg=AOvVaw0AR50DRdSHC8J87Xz6Qy3C&opi=89978449) ."
      ]
    },
    {
      "cell_type": "markdown",
      "source": [
        "**1. Importação das bibliotecas:** Vamos importar as bibliotecas necessárias para os trabalhos a serem executados."
      ],
      "metadata": {
        "id": "3wRQpjPROzAs"
      }
    },
    {
      "cell_type": "code",
      "metadata": {
        "id": "sPMp7QfrBZNd"
      },
      "source": [
        "# Configuração para não exibir os warnings\n",
        "import warnings\n",
        "warnings.filterwarnings(\"ignore\")\n",
        "\n",
        "# Imports necessários\n",
        "import pandas as pd\n",
        "import numpy as np\n",
        "import matplotlib.pyplot as plt\n",
        "from sklearn.datasets import load_diabetes # para importar o dataset diabetes\n",
        "from sklearn.model_selection import train_test_split # para particionar em bases de treino e teste (holdout)\n",
        "from sklearn.model_selection import KFold # para preparar os folds da validação cruzada\n",
        "from sklearn.model_selection import cross_val_score # para executar a validação cruzada\n",
        "from sklearn.metrics import mean_squared_error # métrica de avaliação MSE\n",
        "from sklearn.linear_model import LinearRegression # algoritmo Regressão Linear\n",
        "from sklearn.linear_model import Ridge # algoritmo Regularização Ridge\n",
        "from sklearn.linear_model import Lasso # algoritmo Regularização Lasso\n",
        "from sklearn.neighbors import KNeighborsRegressor # algoritmo KNN\n",
        "from sklearn.tree import DecisionTreeRegressor # algoritmo Árvore de Regressão\n",
        "from sklearn.svm import SVR # algoritmo SVM"
      ],
      "execution_count": null,
      "outputs": []
    },
    {
      "cell_type": "markdown",
      "source": [
        "**2. Carga do dataset original:** Carregamos o dataset original de forma visualizar as colunas que compõem este dataset, e verificar se ele pode ser utilizado."
      ],
      "metadata": {
        "id": "Z1YhC2ZILsoM"
      }
    },
    {
      "cell_type": "code",
      "source": [
        "# Carga do dataset não tratado\n",
        "#dataset = pd.read_csv('/content/ds_salaries_prepared6.csv',delimiter=';')\n",
        "url = 'http://raw.githubusercontent.com/alanrolemberg/mvp/main/ds_salaries_prepared.csv'\n",
        "\n",
        "# Carga do dataset não tratado\n",
        "df_orig = pd.read_csv(url,delimiter=';',)\n",
        "\n",
        "# Exibição das primeiras linhas do dataset\n",
        "df_orig.head()\n"
      ],
      "metadata": {
        "colab": {
          "base_uri": "https://localhost:8080/",
          "height": 250
        },
        "id": "VGEdZHUpYFpO",
        "outputId": "504a2268-c60c-48cd-f12c-12281bb95f42"
      },
      "execution_count": null,
      "outputs": [
        {
          "output_type": "execute_result",
          "data": {
            "text/plain": [
              "   work_year experience_level employment_type                 job_title  \\\n",
              "0       2023               SE              FT  Principal Data Scientist   \n",
              "1       2023               MI              CT               ML Engineer   \n",
              "2       2023               MI              CT               ML Engineer   \n",
              "3       2023               SE              FT            Data Scientist   \n",
              "4       2023               SE              FT            Data Scientist   \n",
              "\n",
              "  salary_currency employee_residence  remote_ratio company_location  \\\n",
              "0             EUR                 ES           100               ES   \n",
              "1             USD                 US           100               US   \n",
              "2             USD                 US           100               US   \n",
              "3             USD                 CA           100               CA   \n",
              "4             USD                 CA           100               CA   \n",
              "\n",
              "  company_size  salary  salary_in_usd  \n",
              "0            L   80000          85847  \n",
              "1            S   30000          30000  \n",
              "2            S   25500          25500  \n",
              "3            M  175000         175000  \n",
              "4            M  120000         120000  "
            ],
            "text/html": [
              "\n",
              "\n",
              "  <div id=\"df-02dee3c7-6362-4371-ac9c-562b4eab671c\">\n",
              "    <div class=\"colab-df-container\">\n",
              "      <div>\n",
              "<style scoped>\n",
              "    .dataframe tbody tr th:only-of-type {\n",
              "        vertical-align: middle;\n",
              "    }\n",
              "\n",
              "    .dataframe tbody tr th {\n",
              "        vertical-align: top;\n",
              "    }\n",
              "\n",
              "    .dataframe thead th {\n",
              "        text-align: right;\n",
              "    }\n",
              "</style>\n",
              "<table border=\"1\" class=\"dataframe\">\n",
              "  <thead>\n",
              "    <tr style=\"text-align: right;\">\n",
              "      <th></th>\n",
              "      <th>work_year</th>\n",
              "      <th>experience_level</th>\n",
              "      <th>employment_type</th>\n",
              "      <th>job_title</th>\n",
              "      <th>salary_currency</th>\n",
              "      <th>employee_residence</th>\n",
              "      <th>remote_ratio</th>\n",
              "      <th>company_location</th>\n",
              "      <th>company_size</th>\n",
              "      <th>salary</th>\n",
              "      <th>salary_in_usd</th>\n",
              "    </tr>\n",
              "  </thead>\n",
              "  <tbody>\n",
              "    <tr>\n",
              "      <th>0</th>\n",
              "      <td>2023</td>\n",
              "      <td>SE</td>\n",
              "      <td>FT</td>\n",
              "      <td>Principal Data Scientist</td>\n",
              "      <td>EUR</td>\n",
              "      <td>ES</td>\n",
              "      <td>100</td>\n",
              "      <td>ES</td>\n",
              "      <td>L</td>\n",
              "      <td>80000</td>\n",
              "      <td>85847</td>\n",
              "    </tr>\n",
              "    <tr>\n",
              "      <th>1</th>\n",
              "      <td>2023</td>\n",
              "      <td>MI</td>\n",
              "      <td>CT</td>\n",
              "      <td>ML Engineer</td>\n",
              "      <td>USD</td>\n",
              "      <td>US</td>\n",
              "      <td>100</td>\n",
              "      <td>US</td>\n",
              "      <td>S</td>\n",
              "      <td>30000</td>\n",
              "      <td>30000</td>\n",
              "    </tr>\n",
              "    <tr>\n",
              "      <th>2</th>\n",
              "      <td>2023</td>\n",
              "      <td>MI</td>\n",
              "      <td>CT</td>\n",
              "      <td>ML Engineer</td>\n",
              "      <td>USD</td>\n",
              "      <td>US</td>\n",
              "      <td>100</td>\n",
              "      <td>US</td>\n",
              "      <td>S</td>\n",
              "      <td>25500</td>\n",
              "      <td>25500</td>\n",
              "    </tr>\n",
              "    <tr>\n",
              "      <th>3</th>\n",
              "      <td>2023</td>\n",
              "      <td>SE</td>\n",
              "      <td>FT</td>\n",
              "      <td>Data Scientist</td>\n",
              "      <td>USD</td>\n",
              "      <td>CA</td>\n",
              "      <td>100</td>\n",
              "      <td>CA</td>\n",
              "      <td>M</td>\n",
              "      <td>175000</td>\n",
              "      <td>175000</td>\n",
              "    </tr>\n",
              "    <tr>\n",
              "      <th>4</th>\n",
              "      <td>2023</td>\n",
              "      <td>SE</td>\n",
              "      <td>FT</td>\n",
              "      <td>Data Scientist</td>\n",
              "      <td>USD</td>\n",
              "      <td>CA</td>\n",
              "      <td>100</td>\n",
              "      <td>CA</td>\n",
              "      <td>M</td>\n",
              "      <td>120000</td>\n",
              "      <td>120000</td>\n",
              "    </tr>\n",
              "  </tbody>\n",
              "</table>\n",
              "</div>\n",
              "      <button class=\"colab-df-convert\" onclick=\"convertToInteractive('df-02dee3c7-6362-4371-ac9c-562b4eab671c')\"\n",
              "              title=\"Convert this dataframe to an interactive table.\"\n",
              "              style=\"display:none;\">\n",
              "\n",
              "  <svg xmlns=\"http://www.w3.org/2000/svg\" height=\"24px\"viewBox=\"0 0 24 24\"\n",
              "       width=\"24px\">\n",
              "    <path d=\"M0 0h24v24H0V0z\" fill=\"none\"/>\n",
              "    <path d=\"M18.56 5.44l.94 2.06.94-2.06 2.06-.94-2.06-.94-.94-2.06-.94 2.06-2.06.94zm-11 1L8.5 8.5l.94-2.06 2.06-.94-2.06-.94L8.5 2.5l-.94 2.06-2.06.94zm10 10l.94 2.06.94-2.06 2.06-.94-2.06-.94-.94-2.06-.94 2.06-2.06.94z\"/><path d=\"M17.41 7.96l-1.37-1.37c-.4-.4-.92-.59-1.43-.59-.52 0-1.04.2-1.43.59L10.3 9.45l-7.72 7.72c-.78.78-.78 2.05 0 2.83L4 21.41c.39.39.9.59 1.41.59.51 0 1.02-.2 1.41-.59l7.78-7.78 2.81-2.81c.8-.78.8-2.07 0-2.86zM5.41 20L4 18.59l7.72-7.72 1.47 1.35L5.41 20z\"/>\n",
              "  </svg>\n",
              "      </button>\n",
              "\n",
              "\n",
              "\n",
              "    <div id=\"df-a0ce3814-5f18-486a-8eae-24b2f4fc0e86\">\n",
              "      <button class=\"colab-df-quickchart\" onclick=\"quickchart('df-a0ce3814-5f18-486a-8eae-24b2f4fc0e86')\"\n",
              "              title=\"Suggest charts.\"\n",
              "              style=\"display:none;\">\n",
              "\n",
              "<svg xmlns=\"http://www.w3.org/2000/svg\" height=\"24px\"viewBox=\"0 0 24 24\"\n",
              "     width=\"24px\">\n",
              "    <g>\n",
              "        <path d=\"M19 3H5c-1.1 0-2 .9-2 2v14c0 1.1.9 2 2 2h14c1.1 0 2-.9 2-2V5c0-1.1-.9-2-2-2zM9 17H7v-7h2v7zm4 0h-2V7h2v10zm4 0h-2v-4h2v4z\"/>\n",
              "    </g>\n",
              "</svg>\n",
              "      </button>\n",
              "    </div>\n",
              "\n",
              "<style>\n",
              "  .colab-df-quickchart {\n",
              "    background-color: #E8F0FE;\n",
              "    border: none;\n",
              "    border-radius: 50%;\n",
              "    cursor: pointer;\n",
              "    display: none;\n",
              "    fill: #1967D2;\n",
              "    height: 32px;\n",
              "    padding: 0 0 0 0;\n",
              "    width: 32px;\n",
              "  }\n",
              "\n",
              "  .colab-df-quickchart:hover {\n",
              "    background-color: #E2EBFA;\n",
              "    box-shadow: 0px 1px 2px rgba(60, 64, 67, 0.3), 0px 1px 3px 1px rgba(60, 64, 67, 0.15);\n",
              "    fill: #174EA6;\n",
              "  }\n",
              "\n",
              "  [theme=dark] .colab-df-quickchart {\n",
              "    background-color: #3B4455;\n",
              "    fill: #D2E3FC;\n",
              "  }\n",
              "\n",
              "  [theme=dark] .colab-df-quickchart:hover {\n",
              "    background-color: #434B5C;\n",
              "    box-shadow: 0px 1px 3px 1px rgba(0, 0, 0, 0.15);\n",
              "    filter: drop-shadow(0px 1px 2px rgba(0, 0, 0, 0.3));\n",
              "    fill: #FFFFFF;\n",
              "  }\n",
              "</style>\n",
              "\n",
              "    <script>\n",
              "      async function quickchart(key) {\n",
              "        const containerElement = document.querySelector('#' + key);\n",
              "        const charts = await google.colab.kernel.invokeFunction(\n",
              "            'suggestCharts', [key], {});\n",
              "      }\n",
              "    </script>\n",
              "\n",
              "      <script>\n",
              "\n",
              "function displayQuickchartButton(domScope) {\n",
              "  let quickchartButtonEl =\n",
              "    domScope.querySelector('#df-a0ce3814-5f18-486a-8eae-24b2f4fc0e86 button.colab-df-quickchart');\n",
              "  quickchartButtonEl.style.display =\n",
              "    google.colab.kernel.accessAllowed ? 'block' : 'none';\n",
              "}\n",
              "\n",
              "        displayQuickchartButton(document);\n",
              "      </script>\n",
              "      <style>\n",
              "    .colab-df-container {\n",
              "      display:flex;\n",
              "      flex-wrap:wrap;\n",
              "      gap: 12px;\n",
              "    }\n",
              "\n",
              "    .colab-df-convert {\n",
              "      background-color: #E8F0FE;\n",
              "      border: none;\n",
              "      border-radius: 50%;\n",
              "      cursor: pointer;\n",
              "      display: none;\n",
              "      fill: #1967D2;\n",
              "      height: 32px;\n",
              "      padding: 0 0 0 0;\n",
              "      width: 32px;\n",
              "    }\n",
              "\n",
              "    .colab-df-convert:hover {\n",
              "      background-color: #E2EBFA;\n",
              "      box-shadow: 0px 1px 2px rgba(60, 64, 67, 0.3), 0px 1px 3px 1px rgba(60, 64, 67, 0.15);\n",
              "      fill: #174EA6;\n",
              "    }\n",
              "\n",
              "    [theme=dark] .colab-df-convert {\n",
              "      background-color: #3B4455;\n",
              "      fill: #D2E3FC;\n",
              "    }\n",
              "\n",
              "    [theme=dark] .colab-df-convert:hover {\n",
              "      background-color: #434B5C;\n",
              "      box-shadow: 0px 1px 3px 1px rgba(0, 0, 0, 0.15);\n",
              "      filter: drop-shadow(0px 1px 2px rgba(0, 0, 0, 0.3));\n",
              "      fill: #FFFFFF;\n",
              "    }\n",
              "  </style>\n",
              "\n",
              "      <script>\n",
              "        const buttonEl =\n",
              "          document.querySelector('#df-02dee3c7-6362-4371-ac9c-562b4eab671c button.colab-df-convert');\n",
              "        buttonEl.style.display =\n",
              "          google.colab.kernel.accessAllowed ? 'block' : 'none';\n",
              "\n",
              "        async function convertToInteractive(key) {\n",
              "          const element = document.querySelector('#df-02dee3c7-6362-4371-ac9c-562b4eab671c');\n",
              "          const dataTable =\n",
              "            await google.colab.kernel.invokeFunction('convertToInteractive',\n",
              "                                                     [key], {});\n",
              "          if (!dataTable) return;\n",
              "\n",
              "          const docLinkHtml = 'Like what you see? Visit the ' +\n",
              "            '<a target=\"_blank\" href=https://colab.research.google.com/notebooks/data_table.ipynb>data table notebook</a>'\n",
              "            + ' to learn more about interactive tables.';\n",
              "          element.innerHTML = '';\n",
              "          dataTable['output_type'] = 'display_data';\n",
              "          await google.colab.output.renderOutput(dataTable, element);\n",
              "          const docLink = document.createElement('div');\n",
              "          docLink.innerHTML = docLinkHtml;\n",
              "          element.appendChild(docLink);\n",
              "        }\n",
              "      </script>\n",
              "    </div>\n",
              "  </div>\n"
            ]
          },
          "metadata": {},
          "execution_count": 17
        }
      ]
    },
    {
      "cell_type": "markdown",
      "source": [
        " **3. Pré-processamento dos dados:** Nosso problema é de regressão. NEste tipo de problema, para conseguirmos lidar com colunas do tipo texto, vamos convertê-las para pesos e/ou numerações que representem as categorias.\n",
        "\n",
        "O atributo \"Tamanho da empresa\" será substituído pelos pesos a seguir: Pequena (Peso 5), Média (Peso 25), Grande (Peso 100).\n",
        "\n",
        "Os atributos \"País da empresa\", \"País do empregado\", \"Tipo de contratação\" e \"Nome do cargo\" serão substituídos por codificações.\n",
        "\n",
        ">**Observação importante:** Tentamos fazer uso do \"OneHotEncoding\" e do \"GetDummies\" para evitar as substituições citadas acima, mas chegamos a conclusão de que a conversão para colunas binárias nos traria prejuízos na hora de se executar o processo de \"Feature Selection\", devido ao fato de que este processo \"quebra\" o atributo em vários atributos, modificando a condição da análise que é feita pelos algoritmos de \"Feature Selection\". Portanto, usamos a abordagem de substituição de variáveis por códigos ou pesos.\n",
        "\n",
        "Removemos o atributo \"salário\" devido a redundância, e adotamos o atributo \"salário em dólar\" como atributo target para garantir uniformidade de medição.\n",
        "\n",
        "Dessa forma iremos reimportar o dataset tratado para fins de comparação:\n"
      ],
      "metadata": {
        "id": "4OTqXqehOxrI"
      }
    },
    {
      "cell_type": "markdown",
      "source": [
        "**4. Carga do dataset pré-processado:** Manipulamos o dataset via EXCEL para substituição de variáveis categóricas por pesos ou códigos, e geramos este novo dataset que será carregado abaixo."
      ],
      "metadata": {
        "id": "-wHig4k_PUR7"
      }
    },
    {
      "cell_type": "code",
      "source": [
        "url = 'https://raw.githubusercontent.com/alanrolemberg/mvp/main/ds_salaries_prepared6.csv'\n",
        "\n",
        "df = pd.read_csv(url,delimiter=';')\n",
        "df.head()"
      ],
      "metadata": {
        "colab": {
          "base_uri": "https://localhost:8080/",
          "height": 206
        },
        "id": "2vp1iPJIPbtF",
        "outputId": "5745a761-3e30-4671-90cc-904baf63c9f8"
      },
      "execution_count": null,
      "outputs": [
        {
          "output_type": "execute_result",
          "data": {
            "text/plain": [
              "   work_year  Experience_level_coded  employment_type_code  job_title_code  \\\n",
              "0       2023                       3                     3              86   \n",
              "1       2023                       2                     1              78   \n",
              "2       2023                       2                     1              78   \n",
              "3       2023                       3                     3              48   \n",
              "4       2023                       3                     3              48   \n",
              "\n",
              "   employee_residence  remote_ratio  company_location  company_size_numeric  \\\n",
              "0                  65           100                65                   100   \n",
              "1                 228           100               228                     5   \n",
              "2                 228           100               228                     5   \n",
              "3                  36           100                36                    25   \n",
              "4                  36           100                36                    25   \n",
              "\n",
              "   salary_in_usd  \n",
              "0          85847  \n",
              "1          30000  \n",
              "2          25500  \n",
              "3         175000  \n",
              "4         120000  "
            ],
            "text/html": [
              "\n",
              "\n",
              "  <div id=\"df-588601b8-f912-4c73-9b3c-1a2ec91cad7b\">\n",
              "    <div class=\"colab-df-container\">\n",
              "      <div>\n",
              "<style scoped>\n",
              "    .dataframe tbody tr th:only-of-type {\n",
              "        vertical-align: middle;\n",
              "    }\n",
              "\n",
              "    .dataframe tbody tr th {\n",
              "        vertical-align: top;\n",
              "    }\n",
              "\n",
              "    .dataframe thead th {\n",
              "        text-align: right;\n",
              "    }\n",
              "</style>\n",
              "<table border=\"1\" class=\"dataframe\">\n",
              "  <thead>\n",
              "    <tr style=\"text-align: right;\">\n",
              "      <th></th>\n",
              "      <th>work_year</th>\n",
              "      <th>Experience_level_coded</th>\n",
              "      <th>employment_type_code</th>\n",
              "      <th>job_title_code</th>\n",
              "      <th>employee_residence</th>\n",
              "      <th>remote_ratio</th>\n",
              "      <th>company_location</th>\n",
              "      <th>company_size_numeric</th>\n",
              "      <th>salary_in_usd</th>\n",
              "    </tr>\n",
              "  </thead>\n",
              "  <tbody>\n",
              "    <tr>\n",
              "      <th>0</th>\n",
              "      <td>2023</td>\n",
              "      <td>3</td>\n",
              "      <td>3</td>\n",
              "      <td>86</td>\n",
              "      <td>65</td>\n",
              "      <td>100</td>\n",
              "      <td>65</td>\n",
              "      <td>100</td>\n",
              "      <td>85847</td>\n",
              "    </tr>\n",
              "    <tr>\n",
              "      <th>1</th>\n",
              "      <td>2023</td>\n",
              "      <td>2</td>\n",
              "      <td>1</td>\n",
              "      <td>78</td>\n",
              "      <td>228</td>\n",
              "      <td>100</td>\n",
              "      <td>228</td>\n",
              "      <td>5</td>\n",
              "      <td>30000</td>\n",
              "    </tr>\n",
              "    <tr>\n",
              "      <th>2</th>\n",
              "      <td>2023</td>\n",
              "      <td>2</td>\n",
              "      <td>1</td>\n",
              "      <td>78</td>\n",
              "      <td>228</td>\n",
              "      <td>100</td>\n",
              "      <td>228</td>\n",
              "      <td>5</td>\n",
              "      <td>25500</td>\n",
              "    </tr>\n",
              "    <tr>\n",
              "      <th>3</th>\n",
              "      <td>2023</td>\n",
              "      <td>3</td>\n",
              "      <td>3</td>\n",
              "      <td>48</td>\n",
              "      <td>36</td>\n",
              "      <td>100</td>\n",
              "      <td>36</td>\n",
              "      <td>25</td>\n",
              "      <td>175000</td>\n",
              "    </tr>\n",
              "    <tr>\n",
              "      <th>4</th>\n",
              "      <td>2023</td>\n",
              "      <td>3</td>\n",
              "      <td>3</td>\n",
              "      <td>48</td>\n",
              "      <td>36</td>\n",
              "      <td>100</td>\n",
              "      <td>36</td>\n",
              "      <td>25</td>\n",
              "      <td>120000</td>\n",
              "    </tr>\n",
              "  </tbody>\n",
              "</table>\n",
              "</div>\n",
              "      <button class=\"colab-df-convert\" onclick=\"convertToInteractive('df-588601b8-f912-4c73-9b3c-1a2ec91cad7b')\"\n",
              "              title=\"Convert this dataframe to an interactive table.\"\n",
              "              style=\"display:none;\">\n",
              "\n",
              "  <svg xmlns=\"http://www.w3.org/2000/svg\" height=\"24px\"viewBox=\"0 0 24 24\"\n",
              "       width=\"24px\">\n",
              "    <path d=\"M0 0h24v24H0V0z\" fill=\"none\"/>\n",
              "    <path d=\"M18.56 5.44l.94 2.06.94-2.06 2.06-.94-2.06-.94-.94-2.06-.94 2.06-2.06.94zm-11 1L8.5 8.5l.94-2.06 2.06-.94-2.06-.94L8.5 2.5l-.94 2.06-2.06.94zm10 10l.94 2.06.94-2.06 2.06-.94-2.06-.94-.94-2.06-.94 2.06-2.06.94z\"/><path d=\"M17.41 7.96l-1.37-1.37c-.4-.4-.92-.59-1.43-.59-.52 0-1.04.2-1.43.59L10.3 9.45l-7.72 7.72c-.78.78-.78 2.05 0 2.83L4 21.41c.39.39.9.59 1.41.59.51 0 1.02-.2 1.41-.59l7.78-7.78 2.81-2.81c.8-.78.8-2.07 0-2.86zM5.41 20L4 18.59l7.72-7.72 1.47 1.35L5.41 20z\"/>\n",
              "  </svg>\n",
              "      </button>\n",
              "\n",
              "\n",
              "\n",
              "    <div id=\"df-16154945-89ea-4069-b651-42f0e6487fec\">\n",
              "      <button class=\"colab-df-quickchart\" onclick=\"quickchart('df-16154945-89ea-4069-b651-42f0e6487fec')\"\n",
              "              title=\"Suggest charts.\"\n",
              "              style=\"display:none;\">\n",
              "\n",
              "<svg xmlns=\"http://www.w3.org/2000/svg\" height=\"24px\"viewBox=\"0 0 24 24\"\n",
              "     width=\"24px\">\n",
              "    <g>\n",
              "        <path d=\"M19 3H5c-1.1 0-2 .9-2 2v14c0 1.1.9 2 2 2h14c1.1 0 2-.9 2-2V5c0-1.1-.9-2-2-2zM9 17H7v-7h2v7zm4 0h-2V7h2v10zm4 0h-2v-4h2v4z\"/>\n",
              "    </g>\n",
              "</svg>\n",
              "      </button>\n",
              "    </div>\n",
              "\n",
              "<style>\n",
              "  .colab-df-quickchart {\n",
              "    background-color: #E8F0FE;\n",
              "    border: none;\n",
              "    border-radius: 50%;\n",
              "    cursor: pointer;\n",
              "    display: none;\n",
              "    fill: #1967D2;\n",
              "    height: 32px;\n",
              "    padding: 0 0 0 0;\n",
              "    width: 32px;\n",
              "  }\n",
              "\n",
              "  .colab-df-quickchart:hover {\n",
              "    background-color: #E2EBFA;\n",
              "    box-shadow: 0px 1px 2px rgba(60, 64, 67, 0.3), 0px 1px 3px 1px rgba(60, 64, 67, 0.15);\n",
              "    fill: #174EA6;\n",
              "  }\n",
              "\n",
              "  [theme=dark] .colab-df-quickchart {\n",
              "    background-color: #3B4455;\n",
              "    fill: #D2E3FC;\n",
              "  }\n",
              "\n",
              "  [theme=dark] .colab-df-quickchart:hover {\n",
              "    background-color: #434B5C;\n",
              "    box-shadow: 0px 1px 3px 1px rgba(0, 0, 0, 0.15);\n",
              "    filter: drop-shadow(0px 1px 2px rgba(0, 0, 0, 0.3));\n",
              "    fill: #FFFFFF;\n",
              "  }\n",
              "</style>\n",
              "\n",
              "    <script>\n",
              "      async function quickchart(key) {\n",
              "        const containerElement = document.querySelector('#' + key);\n",
              "        const charts = await google.colab.kernel.invokeFunction(\n",
              "            'suggestCharts', [key], {});\n",
              "      }\n",
              "    </script>\n",
              "\n",
              "      <script>\n",
              "\n",
              "function displayQuickchartButton(domScope) {\n",
              "  let quickchartButtonEl =\n",
              "    domScope.querySelector('#df-16154945-89ea-4069-b651-42f0e6487fec button.colab-df-quickchart');\n",
              "  quickchartButtonEl.style.display =\n",
              "    google.colab.kernel.accessAllowed ? 'block' : 'none';\n",
              "}\n",
              "\n",
              "        displayQuickchartButton(document);\n",
              "      </script>\n",
              "      <style>\n",
              "    .colab-df-container {\n",
              "      display:flex;\n",
              "      flex-wrap:wrap;\n",
              "      gap: 12px;\n",
              "    }\n",
              "\n",
              "    .colab-df-convert {\n",
              "      background-color: #E8F0FE;\n",
              "      border: none;\n",
              "      border-radius: 50%;\n",
              "      cursor: pointer;\n",
              "      display: none;\n",
              "      fill: #1967D2;\n",
              "      height: 32px;\n",
              "      padding: 0 0 0 0;\n",
              "      width: 32px;\n",
              "    }\n",
              "\n",
              "    .colab-df-convert:hover {\n",
              "      background-color: #E2EBFA;\n",
              "      box-shadow: 0px 1px 2px rgba(60, 64, 67, 0.3), 0px 1px 3px 1px rgba(60, 64, 67, 0.15);\n",
              "      fill: #174EA6;\n",
              "    }\n",
              "\n",
              "    [theme=dark] .colab-df-convert {\n",
              "      background-color: #3B4455;\n",
              "      fill: #D2E3FC;\n",
              "    }\n",
              "\n",
              "    [theme=dark] .colab-df-convert:hover {\n",
              "      background-color: #434B5C;\n",
              "      box-shadow: 0px 1px 3px 1px rgba(0, 0, 0, 0.15);\n",
              "      filter: drop-shadow(0px 1px 2px rgba(0, 0, 0, 0.3));\n",
              "      fill: #FFFFFF;\n",
              "    }\n",
              "  </style>\n",
              "\n",
              "      <script>\n",
              "        const buttonEl =\n",
              "          document.querySelector('#df-588601b8-f912-4c73-9b3c-1a2ec91cad7b button.colab-df-convert');\n",
              "        buttonEl.style.display =\n",
              "          google.colab.kernel.accessAllowed ? 'block' : 'none';\n",
              "\n",
              "        async function convertToInteractive(key) {\n",
              "          const element = document.querySelector('#df-588601b8-f912-4c73-9b3c-1a2ec91cad7b');\n",
              "          const dataTable =\n",
              "            await google.colab.kernel.invokeFunction('convertToInteractive',\n",
              "                                                     [key], {});\n",
              "          if (!dataTable) return;\n",
              "\n",
              "          const docLinkHtml = 'Like what you see? Visit the ' +\n",
              "            '<a target=\"_blank\" href=https://colab.research.google.com/notebooks/data_table.ipynb>data table notebook</a>'\n",
              "            + ' to learn more about interactive tables.';\n",
              "          element.innerHTML = '';\n",
              "          dataTable['output_type'] = 'display_data';\n",
              "          await google.colab.output.renderOutput(dataTable, element);\n",
              "          const docLink = document.createElement('div');\n",
              "          docLink.innerHTML = docLinkHtml;\n",
              "          element.appendChild(docLink);\n",
              "        }\n",
              "      </script>\n",
              "    </div>\n",
              "  </div>\n"
            ]
          },
          "metadata": {},
          "execution_count": 18
        }
      ]
    },
    {
      "cell_type": "markdown",
      "source": [
        "**5. Separação em base de treino e testes:**\n",
        "\n",
        "Separamos nosso conjunto, destinando 80% para a base de treino e 20% para a base de testes."
      ],
      "metadata": {
        "id": "I-7a2ugLMMqo"
      }
    },
    {
      "cell_type": "code",
      "source": [
        "#Separação em bases de treino e teste (holdout)\n",
        "array = df.values\n",
        "X = array[:,0:8]\n",
        "y = array[:,8] # classe (target)\n",
        "print(X)\n",
        "X_train, X_test, y_train, y_test = train_test_split(X, y, test_size=0.20, random_state=7) # faz a divisão\n",
        "\n",
        "# Criando os folds para a validação cruzada\n",
        "num_particoes = 10 # número de folds da validação cruzada\n",
        "kfold = KFold(n_splits=num_particoes, shuffle=True, random_state=7) # faz o particionamento em 10 folds"
      ],
      "metadata": {
        "id": "CpZgzNECTmo3",
        "colab": {
          "base_uri": "https://localhost:8080/"
        },
        "outputId": "d9604700-1dea-4007-b42d-d2836c24706d"
      },
      "execution_count": null,
      "outputs": [
        {
          "output_type": "stream",
          "name": "stdout",
          "text": [
            "[[2023    3    3 ...  100   65  100]\n",
            " [2023    2    1 ...  100  228    5]\n",
            " [2023    2    1 ...  100  228    5]\n",
            " ...\n",
            " [2020    1    3 ...  100  228    5]\n",
            " [2020    1    1 ...  100  228  100]\n",
            " [2021    3    3 ...   50  103  100]]\n"
          ]
        }
      ]
    },
    {
      "cell_type": "markdown",
      "source": [
        "**6. Modelagem:**\n",
        "\n",
        "Criamos nosso modelo e adicionamos 5 algoritmos de regressão para gerar as análises do modelo. A métrica para avaliação dos modelos será o erro quadrático médio, através do método de validação cruzada."
      ],
      "metadata": {
        "id": "xRt6MYjGMU5u"
      }
    },
    {
      "cell_type": "code",
      "source": [
        "# Modelagem\n",
        "\n",
        "# Definindo uma seed global para esta célula de código\n",
        "np.random.seed(7)\n",
        "\n",
        "# Listas para armazenar os modelos, os resultados e os nomes dos modelos\n",
        "models = []\n",
        "results = []\n",
        "names = []\n",
        "\n",
        "# Preparando os modelos e adicionando-os em uma lista\n",
        "models.append(('LR', LinearRegression()))\n",
        "models.append(('Ridge', Ridge()))\n",
        "models.append(('Lasso', Lasso()))\n",
        "models.append(('KNN', KNeighborsRegressor()))\n",
        "models.append(('CART', DecisionTreeRegressor()))\n",
        "models.append(('SVM', SVR()))\n",
        "\n",
        "# Avaliando um modelo por vez\n",
        "for name, model in models:\n",
        "  cv_results = cross_val_score(model, X_train, y_train, cv=kfold, scoring='neg_mean_squared_error')\n",
        "  results.append(cv_results)\n",
        "  names.append(name)\n",
        "  # imprime MSE, desvio padrão do MSE e RMSE dos 10 resultados da validação cruzada\n",
        "  msg = \"%s: MSE %0.2f (%0.2f) - RMSE %0.2f\" % (name, abs(cv_results.mean()), cv_results.std(), np.sqrt(abs(cv_results.mean())))\n",
        "  print(msg)\n",
        "\n",
        "\n",
        "# Boxplot de comparação dos modelos\n",
        "fig = plt.figure()\n",
        "fig.suptitle('Comparação do MSE dos Modelos')\n",
        "ax = fig.add_subplot(111)\n",
        "plt.boxplot(results)\n",
        "ax.set_xticklabels(names)\n",
        "plt.show()"
      ],
      "metadata": {
        "colab": {
          "base_uri": "https://localhost:8080/",
          "height": 582
        },
        "id": "WCwi5olTYPXt",
        "outputId": "48465c7f-7cfc-49e7-a85b-9aa3b23a2789"
      },
      "execution_count": null,
      "outputs": [
        {
          "output_type": "stream",
          "name": "stdout",
          "text": [
            "LR: MSE 2992400074.39 (403308434.59) - RMSE 54702.83\n",
            "Ridge: MSE 2992270706.35 (403138735.34) - RMSE 54701.65\n",
            "Lasso: MSE 2992356821.02 (403255496.92) - RMSE 54702.44\n",
            "KNN: MSE 2946590872.46 (420224324.38) - RMSE 54282.51\n",
            "CART: MSE 2951575054.03 (369578566.93) - RMSE 54328.40\n",
            "SVM: MSE 4018742618.61 (465318464.50) - RMSE 63393.55\n"
          ]
        },
        {
          "output_type": "display_data",
          "data": {
            "text/plain": [
              "<Figure size 640x480 with 1 Axes>"
            ],
            "image/png": "[encoded data removed]"
          },
          "metadata": {}
        }
      ]
    },
    {
      "cell_type": "markdown",
      "source": [
        ">**DESCOBERTA:** O KNN é o modelo que trouxe melhor performance com este DATASET.\n",
        "\n"
      ],
      "metadata": {
        "id": "g_CElu0xOA7B"
      }
    },
    {
      "cell_type": "markdown",
      "source": [
        "**7. Avaliação dos modelos no conjunto de treino:**\n",
        "-  O KNN é o modelo que trouxe melhor performance com o conjunto de teste, trazendo um menor erro quadrático em relação aos demais, mas com valores próximos aos algoritmos LR, Ridge, Lasso e CART.\n",
        "- o SVM é o modelo que trouxe a pior performance com o conjunto de teste, trazendo um maior erro quadrático em relação aos demais."
      ],
      "metadata": {
        "id": "QD4Xr2OCP1aC"
      }
    },
    {
      "cell_type": "markdown",
      "source": [
        "**8. Avaliação do modelo vencedor com todo o conjunto de teste:**"
      ],
      "metadata": {
        "id": "Yzz3iwl9RAtL"
      }
    },
    {
      "cell_type": "code",
      "source": [
        "# Criando um modelo com todo o conjunto de treino\n",
        "model = KNeighborsRegressor()\n",
        "model.fit(X_train, y_train)\n",
        "\n",
        "# Fazendo as predições com o conjunto de teste\n",
        "predictions = model.predict(X_test)\n",
        "\n",
        "# Estimando o MSE e o RMSE no conjunto de teste\n",
        "mse = mean_squared_error(y_test, predictions)\n",
        "print(\"MSE %0.2f\" % mse)\n",
        "print(\"RMSE %0.2f\" % np.sqrt(abs(mse)))"
      ],
      "metadata": {
        "colab": {
          "base_uri": "https://localhost:8080/"
        },
        "id": "6W6ftDx5YSKZ",
        "outputId": "86ced1a0-e018-4edc-a03f-7b50cf6f6a35"
      },
      "execution_count": null,
      "outputs": [
        {
          "output_type": "stream",
          "name": "stdout",
          "text": [
            "MSE 2737845613.44\n",
            "RMSE 52324.43\n"
          ]
        }
      ]
    },
    {
      "cell_type": "markdown",
      "source": [
        ">**DESCOBERTA:** O valor do RMSE melhorou quando submetido ao conjunto de teste."
      ],
      "metadata": {
        "id": "NFZABiqmRo8n"
      }
    },
    {
      "cell_type": "markdown",
      "source": [
        "**8. Processo de feature selection**"
      ],
      "metadata": {
        "id": "UnE3ux2EFkMK"
      }
    },
    {
      "cell_type": "markdown",
      "source": [
        "**8.1 Importação de bibliotecas**"
      ],
      "metadata": {
        "id": "86b3JdNYSR2h"
      }
    },
    {
      "cell_type": "code",
      "source": [
        "from sklearn.feature_selection import SelectKBest # para a Seleção Univariada\n",
        "from sklearn.feature_selection import f_classif # para o teste ANOVA da Seleção Univariada\n",
        "from sklearn.feature_selection import RFE # para a Eliminação Recursiva de Atributos\n",
        "from sklearn.linear_model import LogisticRegression # Regressão Logística, para a Eliminação Recursiva de Atributos\n",
        "from sklearn.ensemble import ExtraTreesClassifier # ExtraTrees, para a Importância de Atributos"
      ],
      "metadata": {
        "id": "dOrGRbuiFdiB"
      },
      "execution_count": null,
      "outputs": []
    },
    {
      "cell_type": "markdown",
      "source": [
        "**8.2 Uso do SelectKBest**"
      ],
      "metadata": {
        "id": "50upq3gySe_I"
      }
    },
    {
      "cell_type": "code",
      "source": [
        "# SelectKBest\n",
        "\n",
        "# Seleção de atributos com SelectKBest\n",
        "best_var = SelectKBest(score_func=f_classif, k=4)\n",
        "\n",
        "# Executa a função de pontuação em (X, y) e obtém os atributos selecionados\n",
        "fit = best_var.fit(X, y)\n",
        "\n",
        "# Reduz X para os atributos selecionados\n",
        "features = fit.transform(X)\n",
        "\n",
        "# Resultados\n",
        "print('\\nNúmero original de atributos:', X.shape[1])\n",
        "print('\\nNúmero reduzido de atributos:', features.shape[1])\n",
        "\n",
        "# Exibe os atributos orginais\n",
        "print(\"\\nAtributos Originais:\", df.columns[0:8])\n",
        "\n",
        "# Exibe as pontuações de cada atributos e os 4 escolhidas (com as pontuações mais altas)\n",
        "np.set_printoptions(precision=3) # 3 casas decimais\n",
        "print(\"\\nScores dos Atributos Originais:\", fit.scores_)\n",
        "print(\"\\nAtributos Selecionados:\", best_var.get_feature_names_out(input_features=df.columns[0:8]))"
      ],
      "metadata": {
        "colab": {
          "base_uri": "https://localhost:8080/"
        },
        "id": "6XvDwVIW3Z-V",
        "outputId": "9218032e-aaca-4f31-eaef-60ab5d1f6664"
      },
      "execution_count": null,
      "outputs": [
        {
          "output_type": "stream",
          "name": "stdout",
          "text": [
            "\n",
            "Número original de atributos: 8\n",
            "\n",
            "Número reduzido de atributos: 4\n",
            "\n",
            "Atributos Originais: Index(['work_year', 'Experience_level_coded', 'employment_type_code',\n",
            "       'job_title_code', 'employee_residence', 'remote_ratio',\n",
            "       'company_location', 'company_size_numeric'],\n",
            "      dtype='object')\n",
            "\n",
            "Scores dos Atributos Originais: [3.013 2.919 2.756 1.911 8.981 2.    9.421 3.408]\n",
            "\n",
            "Atributos Selecionados: ['work_year' 'employee_residence' 'company_location'\n",
            " 'company_size_numeric']\n"
          ]
        }
      ]
    },
    {
      "cell_type": "markdown",
      "source": [
        ">**DESCOBERTA:** Este algoritmo classificou os atributos ['work_year' 'employee_residence' 'company_location'\n",
        " 'company_size_numeric'] como os mais importantes."
      ],
      "metadata": {
        "id": "wCz7T6J9NK-W"
      }
    },
    {
      "cell_type": "markdown",
      "source": [
        "**8.2 Uso do LogisticRegression**"
      ],
      "metadata": {
        "id": "IfdQxOTFSnWx"
      }
    },
    {
      "cell_type": "code",
      "source": [
        "# Eliminação Recursiva de Atributos\n",
        "\n",
        "# Criação do modelo\n",
        "modelo = LogisticRegression(max_iter=200)\n",
        "\n",
        "# Descobrir 3 atributos com maior influência nos resultados\n",
        "rfe = RFE(modelo, n_features_to_select=3)\n",
        "fit = rfe.fit(X, y)\n",
        "\n",
        "# Print dos resultados\n",
        "print(\"Atributos Originais:\", df.columns[0:8])\n",
        "\n",
        "# Exibe os atributos selecionados (marcados como True em \"Atributos Selecionados\"\n",
        "# e com valor 1 em \"Ranking dos Atributos\")\n",
        "print(\"\\nAtributos Selecionados: %s\" % fit.support_)\n",
        "print(\"\\nRanking de atributos: %s\" % fit.ranking_)\n",
        "print(\"\\nQtd de melhores Atributos: %d\" % fit.n_features_)\n",
        "print(\"\\nNomes dos Atributos Selecionados como melhores: %s\" % fit.get_feature_names_out(input_features=df.columns[0:8]))"
      ],
      "metadata": {
        "colab": {
          "base_uri": "https://localhost:8080/"
        },
        "id": "dXJwURixKPlt",
        "outputId": "62b310e1-668a-4ed7-a4be-f366037fea95"
      },
      "execution_count": null,
      "outputs": [
        {
          "output_type": "stream",
          "name": "stdout",
          "text": [
            "Atributos Originais: Index(['work_year', 'Experience_level_coded', 'employment_type_code',\n",
            "       'job_title_code', 'employee_residence', 'remote_ratio',\n",
            "       'company_location', 'company_size_numeric'],\n",
            "      dtype='object')\n",
            "\n",
            "Atributos Selecionados: [False False False  True False  True False  True]\n",
            "\n",
            "Ranking de atributos: [4 5 6 1 2 1 3 1]\n",
            "\n",
            "Qtd de melhores Atributos: 3\n",
            "\n",
            "Nomes dos Atributos Selecionados como melhores: ['job_title_code' 'remote_ratio' 'company_size_numeric']\n"
          ]
        }
      ]
    },
    {
      "cell_type": "markdown",
      "source": [
        ">**DESCOBERTA:** Este algoritmo classificou os atributos ['job_title_code' 'remote_ratio' 'company_size_numeric'] como os mais importantes."
      ],
      "metadata": {
        "id": "nQPxhd58Nj4j"
      }
    },
    {
      "cell_type": "markdown",
      "source": [
        "**8.3 Uso de ExtraTrees**"
      ],
      "metadata": {
        "id": "quHZTjnqThlU"
      }
    },
    {
      "cell_type": "code",
      "source": [
        "# Importância de Atributos com ExtraTrees\n",
        "\n",
        "# Criação do modelo para seleção de atributos\n",
        "modelo = ExtraTreesClassifier(n_estimators=100)\n",
        "modelo.fit(X,y)\n",
        "\n",
        "# Exibe os atributos orginais\n",
        "print(\"\\nAtributos Originais:\", df.columns[0:8])\n",
        "\n",
        "# Exibe a pontuação de importância para cada atributo (quanto maior a pontuação, mais importante é o atributo).\n",
        "print(modelo.feature_importances_)\n",
        "\n",
        "print(\" O melhor atributo tem importancia de: \",max(modelo.feature_importances_))"
      ],
      "metadata": {
        "colab": {
          "base_uri": "https://localhost:8080/"
        },
        "id": "oTsFPcN44Xe3",
        "outputId": "c79a7981-12ee-4643-dc4b-8844527378ce"
      },
      "execution_count": null,
      "outputs": [
        {
          "output_type": "stream",
          "name": "stdout",
          "text": [
            "\n",
            "Atributos Originais: Index(['work_year', 'Experience_level_coded', 'employment_type_code',\n",
            "       'job_title_code', 'employee_residence', 'remote_ratio',\n",
            "       'company_location', 'company_size_numeric'],\n",
            "      dtype='object')\n",
            "[0.121 0.073 0.019 0.425 0.124 0.055 0.116 0.067]\n",
            " O melhor atributo tem importancia de:  0.4251627715682816\n"
          ]
        }
      ]
    },
    {
      "cell_type": "markdown",
      "source": [
        ">**DESCOBERTA:** Este algoritmo classificou o atributo ['job_title_code'] como o mais importante."
      ],
      "metadata": {
        "id": "04JTZ4w1XhoL"
      }
    },
    {
      "cell_type": "markdown",
      "source": [
        "**9. Redução da dimensionalidade (aplicando o feature selection)**\n",
        "\n",
        "Dentro do estudado, vamos então refazer a predição nos baseando apenas nos atributos mais importantes.\n",
        "\n",
        "Descartaremos os atributos a seguir, que foram mostrados como menos importantes por alguns dos algoritmos:\n",
        "- experience_level_coded\n",
        "- employment_type_code\n",
        "- remote_ratio\n"
      ],
      "metadata": {
        "id": "S7AtuY4LNFZb"
      }
    },
    {
      "cell_type": "code",
      "source": [
        "#Separação em bases de treino e teste (holdout)\n",
        "array2 = df.values\n",
        "# Concatenando apenas as colunas com os atributos selecionados\n",
        "X2 = np.column_stack((array2[:,0],array2[:,3],array2[:,4],array2[:,6],array2[:,7])) # aqui estão sendo descartados os atributos teoricamente piores\n",
        "y2 = array2[:,8] # classe (target)\n",
        "print(X2)\n",
        "X_train2, X_test2, y_train2, y_test2 = train_test_split(X2, y2, test_size=0.20, random_state=7) # faz a divisão\n",
        "\n",
        "# Criando os folds para a validação cruzada\n",
        "num_particoes = 10 # número de folds da validação cruzada\n",
        "kfold = KFold(n_splits=num_particoes, shuffle=True, random_state=7) # faz o particionamento em 10 folds"
      ],
      "metadata": {
        "id": "GYBaKnkgNK7A",
        "colab": {
          "base_uri": "https://localhost:8080/"
        },
        "outputId": "524359a2-4aa7-4619-c658-b64a1fe5cb42"
      },
      "execution_count": null,
      "outputs": [
        {
          "output_type": "stream",
          "name": "stdout",
          "text": [
            "[[2023    3   86   65   65  100]\n",
            " [2023    2   78  228  228    5]\n",
            " [2023    2   78  228  228    5]\n",
            " ...\n",
            " [2020    1   48  228  228    5]\n",
            " [2020    1   18  228  228  100]\n",
            " [2021    3   46  103  103  100]]\n"
          ]
        }
      ]
    },
    {
      "cell_type": "markdown",
      "source": [
        "***10. Modelagem nova (aplicando a feature selection) ***"
      ],
      "metadata": {
        "id": "I1ciiJqXNP1Y"
      }
    },
    {
      "cell_type": "code",
      "source": [
        "# Modelagem\n",
        "\n",
        "# Definindo uma seed global para esta célula de código\n",
        "np.random.seed(7)\n",
        "\n",
        "# Listas para armazenar os modelos, os resultados e os nomes dos modelos\n",
        "models = []\n",
        "results = []\n",
        "names = []\n",
        "\n",
        "# Preparando os modelos e adicionando-os em uma lista\n",
        "models.append(('LR', LinearRegression()))\n",
        "models.append(('Ridge', Ridge()))\n",
        "models.append(('Lasso', Lasso()))\n",
        "models.append(('KNN', KNeighborsRegressor()))\n",
        "models.append(('CART', DecisionTreeRegressor()))\n",
        "models.append(('SVM', SVR()))\n",
        "\n",
        "# Avaliando um modelo por vez\n",
        "for name, model in models:\n",
        "  cv_results = cross_val_score(model, X_train2, y_train2, cv=kfold, scoring='neg_mean_squared_error')\n",
        "  results.append(cv_results)\n",
        "  names.append(name)\n",
        "  # imprime MSE, desvio padrão do MSE e RMSE dos 10 resultados da validação cruzada\n",
        "  msg = \"%s: MSE %0.2f (%0.2f) - RMSE %0.2f\" % (name, abs(cv_results.mean()), cv_results.std(), np.sqrt(abs(cv_results.mean())))\n",
        "  print(msg)\n",
        "\n",
        "\n",
        "# Boxplot de comparação dos modelos\n",
        "fig = plt.figure()\n",
        "fig.suptitle('Comparação do MSE dos Modelos')\n",
        "ax = fig.add_subplot(111)\n",
        "plt.boxplot(results)\n",
        "ax.set_xticklabels(names)\n",
        "plt.show()"
      ],
      "metadata": {
        "id": "0WNP1zevNTm0",
        "colab": {
          "base_uri": "https://localhost:8080/",
          "height": 582
        },
        "outputId": "7be9ef91-d60e-4cf5-92b6-695b0b3e79f5"
      },
      "execution_count": null,
      "outputs": [
        {
          "output_type": "stream",
          "name": "stdout",
          "text": [
            "LR: MSE 2984847659.78 (395222327.46) - RMSE 54633.76\n",
            "Ridge: MSE 2984845028.58 (395209817.49) - RMSE 54633.74\n",
            "Lasso: MSE 2984847616.38 (395221293.23) - RMSE 54633.76\n",
            "KNN: MSE 3074565589.09 (409560009.02) - RMSE 55448.77\n",
            "CART: MSE 2880621040.64 (442313587.80) - RMSE 53671.42\n",
            "SVM: MSE 4018727738.65 (465317625.99) - RMSE 63393.44\n"
          ]
        },
        {
          "output_type": "display_data",
          "data": {
            "text/plain": [
              "<Figure size 640x480 with 1 Axes>"
            ],
            "image/png": "[encoded data removed]"
          },
          "metadata": {}
        }
      ]
    },
    {
      "cell_type": "markdown",
      "source": [
        ">**DESCOBERTA:** Nesta nova modelagem, após feature selection, o CART (Árvore de descisão) superou o KNN, demonstrando uma menor média no erro quadrático.\n",
        "\n"
      ],
      "metadata": {
        "id": "2K8RN6UkNW5C"
      }
    },
    {
      "cell_type": "markdown",
      "source": [
        "**11. Avaliação dos modelos no conjunto de treino:**\n",
        "- o CART foi o modelo que obteve o melhor desempenho após executada a redução de dimensionalidade, superando o KNN.\n",
        "- O SVM continua sendo o pior modelo mesmo após a redução de dimensionalidade."
      ],
      "metadata": {
        "id": "lpHJNSa7VJHy"
      }
    },
    {
      "cell_type": "markdown",
      "source": [
        "**12. Avaliação do modelo vencedor no conjunto de testes:** Vamos realizar agora o treino do modelo com o conjunto de treino e submeter ele a predições no novo conjunto de teste, para fins de comparação."
      ],
      "metadata": {
        "id": "qQsUsS-EVKf9"
      }
    },
    {
      "cell_type": "code",
      "source": [
        "# Criando um modelo com todo o conjunto de treino\n",
        "model = DecisionTreeRegressor()\n",
        "model.fit(X_train2, y_train2)\n",
        "\n",
        "# Fazendo as predições com o conjunto de teste\n",
        "predictions = model.predict(X_test2)\n",
        "\n",
        "# Estimando o MSE e o RMSE no conjunto de teste\n",
        "mse = mean_squared_error(y_test2, predictions)\n",
        "print(\"MSE %0.2f\" % mse)\n",
        "print(\"RMSE %0.2f\" % np.sqrt(abs(mse)))"
      ],
      "metadata": {
        "id": "YuOJvu6WNY35",
        "colab": {
          "base_uri": "https://localhost:8080/"
        },
        "outputId": "f9569f4a-ff1d-48af-91ba-0b7caea4a68a"
      },
      "execution_count": null,
      "outputs": [
        {
          "output_type": "stream",
          "name": "stdout",
          "text": [
            "MSE 2682904021.13\n",
            "RMSE 51796.76\n"
          ]
        }
      ]
    },
    {
      "cell_type": "markdown",
      "source": [
        ">**PIORA NO DESEMPENHO:** O resultado global na avaliação da base de testes completa piorou após remover os atributos selecionados por feature selection, pois o erro quadrático médio que era de 52324 (sem feature selection) e subiu para 53083 (após feature selection). A avaliação que fazemos é que o processo de feature selection da forma realizada não melhorou o modelo, e devem ser realizadas novas tentativas com remoção de outros arranjos de atributos. Em último caso, deve ser usada a integralidade dos atributos, de forma a obter o melhor desempenho."
      ],
      "metadata": {
        "id": "ps7xofs7WrtO"
      }
    },
    {
      "cell_type": "markdown",
      "source": [],
      "metadata": {
        "id": "BfEjRXU7dMtB"
      }
    },
    {
      "cell_type": "markdown",
      "source": [
        "**13. Redução da dimensionalidade (corrigindo o feature selection)**\n",
        "\n",
        "Vamos considerar a saída do Extra Trees, que considera que dos 3 atributos menos importantes, o \"Experience_level_coded\" é o mais importante. Essa saída também corresponde ao feeling pessoal ao analisar os dados. O nível de experiência do empregado sempre vai estar em algum grau relacionado ao salário recebido.\n",
        "\n",
        "Então consideraremos desta vez a remoção de apenas 2 atributos:\n",
        "- employment_type_code\n",
        "- remote_ratio\n"
      ],
      "metadata": {
        "id": "PcS63rhYdNCF"
      }
    },
    {
      "cell_type": "code",
      "source": [
        "#Separação em bases de treino e teste (holdout)\n",
        "array2 = df.values\n",
        "# Concatenando apenas as colunas com os atributos selecionados\n",
        "X2 = np.column_stack((array2[:,0],array2[:,1],array2[:,3],array2[:,4],array2[:,6],array2[:,7])) # aqui estão sendo descartados os atributos teoricamente piores\n",
        "y2 = array2[:,8] # classe (target)\n",
        "print(X2)\n",
        "X_train2, X_test2, y_train2, y_test2 = train_test_split(X2, y2, test_size=0.20, random_state=7) # faz a divisão\n",
        "\n",
        "# Criando os folds para a validação cruzada\n",
        "num_particoes = 10 # número de folds da validação cruzada\n",
        "kfold = KFold(n_splits=num_particoes, shuffle=True, random_state=7) # faz o particionamento em 10 folds"
      ],
      "metadata": {
        "id": "djNcaScWe9m4"
      },
      "execution_count": null,
      "outputs": []
    },
    {
      "cell_type": "markdown",
      "source": [
        "**14. Nova modelagem (Corrigindo o feature selection)**"
      ],
      "metadata": {
        "id": "KDODi5vkfXzV"
      }
    },
    {
      "cell_type": "code",
      "source": [
        "# Modelagem\n",
        "\n",
        "# Definindo uma seed global para esta célula de código\n",
        "np.random.seed(7)\n",
        "\n",
        "# Listas para armazenar os modelos, os resultados e os nomes dos modelos\n",
        "models = []\n",
        "results = []\n",
        "names = []\n",
        "\n",
        "# Preparando os modelos e adicionando-os em uma lista\n",
        "models.append(('LR', LinearRegression()))\n",
        "models.append(('Ridge', Ridge()))\n",
        "models.append(('Lasso', Lasso()))\n",
        "models.append(('KNN', KNeighborsRegressor()))\n",
        "models.append(('CART', DecisionTreeRegressor()))\n",
        "models.append(('SVM', SVR()))\n",
        "\n",
        "# Avaliando um modelo por vez\n",
        "for name, model in models:\n",
        "  cv_results = cross_val_score(model, X_train2, y_train2, cv=kfold, scoring='neg_mean_squared_error')\n",
        "  results.append(cv_results)\n",
        "  names.append(name)\n",
        "  # imprime MSE, desvio padrão do MSE e RMSE dos 10 resultados da validação cruzada\n",
        "  msg = \"%s: MSE %0.2f (%0.2f) - RMSE %0.2f\" % (name, abs(cv_results.mean()), cv_results.std(), np.sqrt(abs(cv_results.mean())))\n",
        "  print(msg)\n",
        "\n",
        "\n",
        "# Boxplot de comparação dos modelos\n",
        "fig = plt.figure()\n",
        "fig.suptitle('Comparação do MSE dos Modelos')\n",
        "ax = fig.add_subplot(111)\n",
        "plt.boxplot(results)\n",
        "ax.set_xticklabels(names)\n",
        "plt.show()"
      ],
      "metadata": {
        "id": "fSvvQcSbfWbQ"
      },
      "execution_count": null,
      "outputs": []
    },
    {
      "cell_type": "markdown",
      "source": [
        ">**DESCOBERTA:** Nesta nova modelagem, após feature selection corrigida, o CART (Árvore de descisão) continuou com uma menor média no erro quadrático."
      ],
      "metadata": {
        "id": "rBFzHm5Pf-xV"
      }
    },
    {
      "cell_type": "markdown",
      "source": [
        "**15. Avaliação do modelo vencedor no conjunto de testes:** Vamos realizar agora o treino do modelo com o conjunto de treino e submeter ele a predições no novo conjunto de teste, para fins de comparação."
      ],
      "metadata": {
        "id": "XIuNBK3nhD_O"
      }
    },
    {
      "cell_type": "code",
      "source": [
        "# Criando um modelo com todo o conjunto de treino\n",
        "model = DecisionTreeRegressor()\n",
        "model.fit(X_train2, y_train2)\n",
        "\n",
        "# Fazendo as predições com o conjunto de teste\n",
        "predictions = model.predict(X_test2)\n",
        "\n",
        "# Estimando o MSE e o RMSE no conjunto de teste\n",
        "mse = mean_squared_error(y_test2, predictions)\n",
        "print(\"MSE %0.2f\" % mse)\n",
        "print(\"RMSE %0.2f\" % np.sqrt(abs(mse)))"
      ],
      "metadata": {
        "id": "WNnsm74yf_OT"
      },
      "execution_count": null,
      "outputs": []
    },
    {
      "cell_type": "markdown",
      "source": [
        ">**MELHORA NO DESEMPENHO:** O resultado global na avaliação da base de testes completa piorou após remover os atributos selecionados por feature selection, pois o erro quadrático médio que era de 52324 (sem feature selection), passou a 53083 (após feature selection), e após correção do feature selection caiu para 51796 . Essa modelagem será considerada como a final, com redução de dimensionalidade dos 2 piores atributos."
      ],
      "metadata": {
        "id": "Lzot5GiChU7E"
      }
    },
    {
      "cell_type": "markdown",
      "source": [
        "**16. TESTANDO A PREDIÇÃO**\n",
        "\n",
        "Vamos vistoriar uma amostragem das nossas predições, usando entradas da base de teste e notando o nível de aproximação das previsões de salário dos salários reais."
      ],
      "metadata": {
        "id": "8WXLfMHPNcDI"
      }
    },
    {
      "cell_type": "code",
      "source": [
        "numbers = [1, 2, 3, 4, 5]\n",
        "for n in numbers:\n",
        "  print('Atributos: ',X_test2[n],'| Salário: ', y_test2[n],'| Predição do modelo: ', round(predictions[n],0))\n"
      ],
      "metadata": {
        "id": "M7RFpsFXNcwA",
        "colab": {
          "base_uri": "https://localhost:8080/"
        },
        "outputId": "ec82af47-b4ee-4ef8-c2a8-bfda8bd5ce6b"
      },
      "execution_count": null,
      "outputs": [
        {
          "output_type": "stream",
          "name": "stdout",
          "text": [
            "Atributos:  [2022   34  228  228   25] | Salário:  135000 | Predição do modelo:  150016.0\n",
            "Atributos:  [2021   71  103  103   25] | Salário:  12171 | Predição do modelo:  20000.0\n",
            "Atributos:  [2023   34  228  228   25] | Salário:  185000 | Predição do modelo:  154486.0\n",
            "Atributos:  [2022   26  228  228   25] | Salário:  150000 | Predição do modelo:  116919.0\n",
            "Atributos:  [2022   34  228  228   25] | Salário:  185900 | Predição do modelo:  150016.0\n"
          ]
        }
      ]
    },
    {
      "cell_type": "code",
      "source": [
        "# Plotagem dos resultados com DecisionTree\n",
        "ax = plt.gca()\n",
        "ax.set_aspect('equal', adjustable='box')\n",
        "plt.plot(data[:,0], m*data[:,0] + b,color='red',label='Our Fitting Line')\n",
        "plt.scatter(y_test2, predictions)"
      ],
      "metadata": {
        "id": "FIrdvFJgpP3A",
        "colab": {
          "base_uri": "https://localhost:8080/"
        },
        "outputId": "07cdb0c4-ebcf-44f8-f81e-402c1bdb0dff"
      },
      "execution_count": null,
      "outputs": [
        {
          "output_type": "error",
          "ename": "SyntaxError",
          "evalue": "ignored",
          "traceback": [
            "\u001b[0;36m  File \u001b[0;32m\"<ipython-input-16-ce3457e0152b>\"\u001b[0;36m, line \u001b[0;32m4\u001b[0m\n\u001b[0;31m    plt.plot(data[:,0], m*data[:,0] + b,color='red',label='Our Fitting\u001b[0m\n\u001b[0m                                                          ^\u001b[0m\n\u001b[0;31mSyntaxError\u001b[0m\u001b[0;31m:\u001b[0m unterminated string literal (detected at line 4)\n"
          ]
        }
      ]
    },
    {
      "cell_type": "markdown",
      "source": [
        "Quanto mais a plotagem acima se aproxima de uma reta, mais preciso está o modelo."
      ],
      "metadata": {
        "id": "BA96G2CWZSeA"
      }
    },
    {
      "cell_type": "markdown",
      "source": [
        "**OTIMIZAÇÃO DE HIPERPARAMETROS**"
      ],
      "metadata": {
        "id": "2bz8LvuSpSfu"
      }
    },
    {
      "cell_type": "code",
      "source": [
        "# Imports de Bibliotecas adicionais\n",
        "from sklearn.model_selection import GridSearchCV\n",
        "from sklearn.pipeline import Pipeline\n",
        "from sklearn.preprocessing import StandardScaler\n",
        "from sklearn.preprocessing import MinMaxScaler\n"
      ],
      "metadata": {
        "id": "RApOU2plpW8G"
      },
      "execution_count": null,
      "outputs": []
    },
    {
      "cell_type": "markdown",
      "source": [
        "Usaremos os parâmetros a seguir para o algoritmo de árvore de decisão:\n",
        "*   'max_depth': [5,10,20,50]\n",
        "*   'max_leaf_nodes': [1,5,10,20,30,40,50,80,100,500]\n",
        "*   'min_samples_leaf': [1,5,10,20,40]\n",
        "\n",
        "\n",
        "\n",
        "\n",
        "\n"
      ],
      "metadata": {
        "id": "xGpaWULRpa8m"
      }
    },
    {
      "cell_type": "code",
      "source": [
        "# Tuning do DecisionTree\n",
        "\n",
        "np.random.seed(7) # definindo uma semente global para este bloco\n",
        "\n",
        "pipelines = []\n",
        "\n",
        "# Definindo os componentes do pipeline\n",
        "cart = ('CART', DecisionTreeRegressor())\n",
        "standard_scaler = ('StandardScaler', StandardScaler())\n",
        "min_max_scaler = ('MinMaxScaler', MinMaxScaler())\n",
        "\n",
        "pipelines.append(('CART-orig', Pipeline(steps=[cart])))\n",
        "pipelines.append(('CART-padr', Pipeline(steps=[standard_scaler, cart])))\n",
        "pipelines.append(('CART-norm', Pipeline(steps=[min_max_scaler, cart])))\n",
        "\n",
        "param_grid = {\n",
        "    'CART__max_depth': [5,10,20,50],\n",
        "    'CART__max_leaf_nodes': [1,5,10,20,30,40,50,80,100,500],\n",
        "    'CART__min_samples_leaf': [1,5,10,20,40]\n",
        "}\n",
        "\n",
        "# Prepara e executa o GridSearchCV\n",
        "for name, model in pipelines:\n",
        "    grid = GridSearchCV(estimator=model, param_grid=param_grid, scoring='neg_mean_squared_error', cv=kfold)\n",
        "    grid.fit(X_train2, y_train2)\n",
        "    # imprime a melhor configuração\n",
        "    print(\"Sem tratamento de missings: %s - Melhor: %f usando %s\" % (name, grid.best_score_, grid.best_params_))"
      ],
      "metadata": {
        "id": "zm8jrhB-pbqX"
      },
      "execution_count": null,
      "outputs": []
    },
    {
      "cell_type": "markdown",
      "source": [
        "Temos agora os melhores valores para os parâmetros testados, que devem incrementar nossos resultados de predição.\n",
        "\n",
        "Testaremos agora a predição do melhor modelo entre o original, o padronizado e o normalizado. Na consulta anterior vimos que a melhor pontuação do GridSearch veio do modelo padronizado."
      ],
      "metadata": {
        "id": "IhN8vV4wqcqS"
      }
    },
    {
      "cell_type": "code",
      "source": [
        "# Criando um modelo configurado com os HIPER PARAMETROS e sem feature selection\n",
        "model = DecisionTreeRegressor(max_depth=10, max_leaf_nodes=40, min_samples_leaf=20) # Aplicação dos parametros eleitos para otimização de hiperparametros\n",
        "model.fit(X_train, y_train)\n",
        "\n",
        "# Fazendo as predições com o conjunto de teste\n",
        "tuned_predictions = model.predict(X_test)\n",
        "\n",
        "# Estimando o MSE e o RMSE, após otimização de hiperparametros, no conjunto de teste\n",
        "mse = mean_squared_error(y_test, tuned_predictions)\n",
        "print(\"Original sem F.S.    | \"+\"MSE %0.2f\" % mse + \"| RMSE %0.2f\" % np.sqrt(abs(mse)))\n",
        "\n",
        "\n"
      ],
      "metadata": {
        "id": "YIr31Tvwl9g8"
      },
      "execution_count": null,
      "outputs": []
    },
    {
      "cell_type": "code",
      "source": [
        "# Criando um modelo configurado com os HIPER PARAMETROS e com feature selection\n",
        "model = DecisionTreeRegressor(max_depth=10, max_leaf_nodes=40, min_samples_leaf=20) # Aplicação dos parametros eleitos para otimização de hiperparametros\n",
        "model.fit(X_train2, y_train2)\n",
        "\n",
        "# Fazendo as predições com o conjunto de teste\n",
        "tuned_predictions = model.predict(X_test2)\n",
        "\n",
        "# Estimando o MSE e o RMSE, após otimização de hiperparametros, no conjunto de teste\n",
        "mse = mean_squared_error(y_test2, tuned_predictions)\n",
        "print(\"Original com F.S.   | \"+\"MSE %0.2f\" % mse + \"| RMSE %0.2f\" % np.sqrt(abs(mse)))\n",
        "\n",
        "\n"
      ],
      "metadata": {
        "id": "l8TpMcMBXOWG"
      },
      "execution_count": null,
      "outputs": []
    },
    {
      "cell_type": "code",
      "source": [
        "#------\n",
        "# Criando um modelo configurado com os HIPER PARAMETROS e PADRONIZADO  e sem feature selection\n",
        "scaler = StandardScaler().fit(X_train) # ajuste do scaler com o conjunto de treino\n",
        "X_train_r = scaler.transform(X_train) # aplicação da padronização no conjunto de treino\n",
        "\n",
        "model = DecisionTreeRegressor(max_depth=10, max_leaf_nodes=40, min_samples_leaf=20) # Aplicação dos parametros eleitos para otimização de hiperparametros\n",
        "model.fit(X_train_r, y_train)\n",
        "\n",
        "# Fazendo as predições com o conjunto de teste padronizado\n",
        "scaler = StandardScaler().fit(X_test)\n",
        "X_test_r = scaler.transform(X_test)\n",
        "tuned_predictions_padr = model.predict(X_test_r)\n",
        "\n",
        "# Estimando o MSE e o RMSE, após otimização de hiperparametros, no conjunto de teste\n",
        "mse = mean_squared_error(y_test, tuned_predictions_padr)\n",
        "print(\"Padronizado sem F.S. | \"+\"MSE %0.2f\" % mse + \"| RMSE %0.2f\" % np.sqrt(abs(mse)))\n"
      ],
      "metadata": {
        "id": "B0fJd6tg7XVl"
      },
      "execution_count": null,
      "outputs": []
    },
    {
      "cell_type": "code",
      "source": [
        "#------\n",
        "# Criando um modelo configurado com os HIPER PARAMETROS e PADRONIZADO  e com feature selection\n",
        "scaler = StandardScaler().fit(X_train2) # ajuste do scaler com o conjunto de treino\n",
        "X_train2_r = scaler.transform(X_train2) # aplicação da padronização no conjunto de treino\n",
        "\n",
        "model = DecisionTreeRegressor(max_depth=10, max_leaf_nodes=40, min_samples_leaf=20) # Aplicação dos parametros eleitos para otimização de hiperparametros\n",
        "model.fit(X_train2_r, y_train2)\n",
        "\n",
        "# Fazendo as predições com o conjunto de teste padronizado\n",
        "scaler = StandardScaler().fit(X_test2)\n",
        "X_test2_r = scaler.transform(X_test2)\n",
        "tuned_predictions_padr = model.predict(X_test2_r)\n",
        "\n",
        "# Estimando o MSE e o RMSE, após otimização de hiperparametros, no conjunto de teste\n",
        "mse = mean_squared_error(y_test2, tuned_predictions_padr)\n",
        "print(\"Padronizado com F.S. | \"+\"MSE %0.2f\" % mse + \"| RMSE %0.2f\" % np.sqrt(abs(mse)))"
      ],
      "metadata": {
        "id": "odOa9fkHYF7w"
      },
      "execution_count": null,
      "outputs": []
    },
    {
      "cell_type": "code",
      "source": [
        "#------\n",
        "# Criando um modelo configurado com os HIPER PARAMETROS e NORMALIZADO e sem feature selection\n",
        "scaler = MinMaxScaler().fit(X_train) # ajuste do scaler com o conjunto de treino\n",
        "X_train_r = scaler.transform(X_train) # aplicação da normalização no conjunto de treino\n",
        "\n",
        "model = DecisionTreeRegressor(max_depth=10, max_leaf_nodes=40, min_samples_leaf=20) # Aplicação dos parametros eleitos para otimização de hiperparametros\n",
        "model.fit(X_train_r, y_train)\n",
        "\n",
        "# Fazendo as predições com o conjunto de teste normalizado\n",
        "scaler = MinMaxScaler().fit(X_test)\n",
        "X_test_r = scaler.transform(X_test)\n",
        "tuned_predictions_norm = model.predict(X_test_r)\n",
        "\n",
        "# Estimando o MSE e o RMSE, após otimização de hiperparametros, no conjunto de teste\n",
        "mse = mean_squared_error(y_test, tuned_predictions_norm)\n",
        "print(\"Normalizado sem F.S. | \"+\"MSE %0.2f\" % mse + \"| RMSE %0.2f\" % np.sqrt(abs(mse)))"
      ],
      "metadata": {
        "id": "U-lKOBpw7XLJ"
      },
      "execution_count": null,
      "outputs": []
    },
    {
      "cell_type": "code",
      "source": [
        "#------\n",
        "# Criando um modelo configurado com os HIPER PARAMETROS e NORMALIZADO e com feature selection\n",
        "scaler = MinMaxScaler().fit(X_train2) # ajuste do scaler com o conjunto de treino\n",
        "X_train2_r = scaler.transform(X_train2) # aplicação da normalização no conjunto de treino\n",
        "\n",
        "model = DecisionTreeRegressor(max_depth=10, max_leaf_nodes=40, min_samples_leaf=20) # Aplicação dos parametros eleitos para otimização de hiperparametros\n",
        "model.fit(X_train2_r, y_train2)\n",
        "\n",
        "# Fazendo as predições com o conjunto de teste normalizado\n",
        "scaler = MinMaxScaler().fit(X_test2)\n",
        "X_test2_r = scaler.transform(X_test2)\n",
        "tuned_predictions_norm = model.predict(X_test2_r)\n",
        "\n",
        "# Estimando o MSE e o RMSE, após otimização de hiperparametros, no conjunto de teste\n",
        "mse = mean_squared_error(y_test2, tuned_predictions_norm)\n",
        "print(\"Normalizado com F.S. | \"+\"MSE %0.2f\" % mse + \"| RMSE %0.2f\" % np.sqrt(abs(mse)))"
      ],
      "metadata": {
        "id": "bgVJJ920YYCD"
      },
      "execution_count": null,
      "outputs": []
    },
    {
      "cell_type": "markdown",
      "source": [
        "**CONCLUSÕES:**\n",
        "- O uso de HIPER PARAMETROS melhorou o modelo. (Vamos usar) ✅\n",
        "- O uso de Feature Selection piorou um pouco o modelo. (Não vamos usar) 🚫\n",
        "- O uso de normalização piorou um pouco o modelo. (Não vamos usar) 🚫\n",
        "- O uso de padronização piorou muito o modelo. (Não vamos usar) 🚫\n",
        "\n",
        "**GANHO SIGNIFICATIVO:**\n",
        "O RMSE caiu de 53083.16 para 49007.52 após otimização de HIPER PARAMETROS. ✅"
      ],
      "metadata": {
        "id": "2qtImgKu6Msf"
      }
    },
    {
      "cell_type": "code",
      "source": [
        "# Plotagem dos resultados com DecisionTree após otimização de hiperparametros\n",
        "ax = plt.gca()\n",
        "ax.set_aspect('equal', adjustable='box')\n",
        "plt.scatter(y_test2, tuned_predictions)"
      ],
      "metadata": {
        "id": "eivsB7vCpkEG"
      },
      "execution_count": null,
      "outputs": []
    },
    {
      "cell_type": "markdown",
      "source": [
        "**ANÁLISE DO PLOT:** Quanto mais a plotagem acima se aproxima de uma reta, mais preciso está o modelo, e quanto mais ele se difunde, menos preciso ele está (maior é o RMSE)."
      ],
      "metadata": {
        "id": "SCARlGGvZKTP"
      }
    },
    {
      "cell_type": "markdown",
      "source": [
        "\n",
        "\n",
        "**PERSISTINDO O MODELO**\n",
        "\n"
      ],
      "metadata": {
        "id": "DRRhIclV9UVQ"
      }
    },
    {
      "cell_type": "code",
      "source": [
        "# Salvar modelo para o disco\n",
        "import pickle\n",
        "filename = 'finalized_model.sav'\n",
        "pickle.dump(model, open(filename, 'wb'))\n"
      ],
      "metadata": {
        "id": "thRuGqd29WPn"
      },
      "execution_count": null,
      "outputs": []
    },
    {
      "cell_type": "markdown",
      "source": [
        "**RECUPERANDO O MODELO**\n"
      ],
      "metadata": {
        "id": "w6SHJxAL9g_D"
      }
    },
    {
      "cell_type": "code",
      "source": [
        "# Carregando o modelo e testando o RMSE novamente\n",
        "loaded_model = pickle.load(open(filename, 'rb'))\n",
        "\n",
        "model.fit(X_train, y_train)\n",
        "\n",
        "# Fazendo as predições com o conjunto de teste\n",
        "tuned_predictions = model.predict(X_test)\n",
        "\n",
        "# Estimando o MSE e o RMSE, após otimização de hiperparametros, no conjunto de teste\n",
        "mse = mean_squared_error(y_test, tuned_predictions)\n",
        "print(\"Original sem F.S.    | \"+\"MSE %0.2f\" % mse + \"| RMSE %0.2f\" % np.sqrt(abs(mse)))"
      ],
      "metadata": {
        "id": "yun5sh3QAAqH"
      },
      "execution_count": null,
      "outputs": []
    }
  ]
}